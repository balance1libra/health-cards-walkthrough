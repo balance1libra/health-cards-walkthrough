{
 "cells": [
  {
   "cell_type": "markdown",
   "id": "thick-dominican",
   "metadata": {},
   "source": [
    "# SMART Health Cards\n",
    "\n",
    "This notebook is designed to give an overview of [SMART Health Cards Framework](https://smarthealth.cards/) and how it works.\n",
    "\n",
    "\n",
    "This notebook is written in JavaScript and uses the [IJavascript kernel](https://github.com/n-riesco/ijavascript) for Jupyter Notebook."
   ]
  },
  {
   "cell_type": "markdown",
   "id": "portable-reducing",
   "metadata": {},
   "source": [
    "## Walkthrough\n",
    "\n",
    "The high level outline is as follows:\n",
    "* FHIR Bundle is created\n",
    "* FHIR Bundle is minified\n",
    "* SMART Health Card is created from FHIR Bundle\n",
    "* SMART Health Card is encoded as a JWS\n",
    "* Patient Retrieves the SMART Health Cards via:\n",
    "  * File Download\n",
    "  * QR Code\n",
    "  * FHIR API"
   ]
  },
  {
   "cell_type": "markdown",
   "id": "natural-gothic",
   "metadata": {},
   "source": [
    "### The FHIR Bundle\n",
    "\n",
    "A SMART Health Card is composed of a [W3C Verifiable Credential](https://w3c.github.io/vc-data-model/), [encoded as a JWT](https://w3c.github.io/vc-data-model/#jwt-encoding), with a Credential Subject that contains the FHIR version and a FHIR Bundle (See [Modeling W3C Verifiable Credentials in FHIR](https://smarthealth.cards/credential-modeling/).\n",
    "\n",
    "The FHIR Bundle contains the health care information.\n",
    "\n",
    "Let's assume we have the below FHIR Bundle ([Example 0](https://smarthealth.cards/examples/example-00-a-fhirBundle.json) at the time of writing). This FHIR Bundle could be produced in a number of ways, but for now let's imagine that the patient, John B. Anyperson, has just received his second COVID-19 vaccination shot and the healthcare worker entered his information into their system which produced the below in their system."
   ]
  },
  {
   "cell_type": "code",
   "execution_count": 1,
   "id": "useful-reset",
   "metadata": {},
   "outputs": [],
   "source": [
    "const fhirBundle = {\n",
    "  \"resourceType\": \"Bundle\",\n",
    "  \"type\": \"collection\",\n",
    "  \"entry\": [\n",
    "    {\n",
    "      \"fullUrl\": \"resource:0\",\n",
    "      \"resource\": {\n",
    "        \"resourceType\": \"Patient\",\n",
    "        \"name\": [\n",
    "          {\n",
    "            \"family\": \"Anyperson\",\n",
    "            \"given\": [\n",
    "              \"John\",\n",
    "              \"B.\"\n",
    "            ]\n",
    "          }\n",
    "        ],\n",
    "        \"birthDate\": \"1951-01-20\"\n",
    "      }\n",
    "    },\n",
    "    {\n",
    "      \"fullUrl\": \"resource:1\",\n",
    "      \"resource\": {\n",
    "        \"resourceType\": \"Immunization\",\n",
    "        \"status\": \"completed\",\n",
    "        \"vaccineCode\": {\n",
    "          \"coding\": [\n",
    "            {\n",
    "              \"system\": \"http://hl7.org/fhir/sid/cvx\",\n",
    "              \"code\": \"207\"\n",
    "            }\n",
    "          ]\n",
    "        },\n",
    "        \"patient\": {\n",
    "          \"reference\": \"resource:0\"\n",
    "        },\n",
    "        \"occurrenceDateTime\": \"2021-01-01\",\n",
    "        \"performer\": [\n",
    "          {\n",
    "            \"actor\": {\n",
    "              \"display\": \"ABC General Hospital\"\n",
    "            }\n",
    "          }\n",
    "        ],\n",
    "        \"lotNumber\": \"0000001\"\n",
    "      }\n",
    "    },\n",
    "    {\n",
    "      \"fullUrl\": \"resource:2\",\n",
    "      \"resource\": {\n",
    "        \"resourceType\": \"Immunization\",\n",
    "        \"status\": \"completed\",\n",
    "        \"vaccineCode\": {\n",
    "          \"coding\": [\n",
    "            {\n",
    "              \"system\": \"http://hl7.org/fhir/sid/cvx\",\n",
    "              \"code\": \"207\"\n",
    "            }\n",
    "          ]\n",
    "        },\n",
    "        \"patient\": {\n",
    "          \"reference\": \"resource:0\"\n",
    "        },\n",
    "        \"occurrenceDateTime\": \"2021-01-29\",\n",
    "        \"performer\": [\n",
    "          {\n",
    "            \"actor\": {\n",
    "              \"display\": \"ABC General Hospital\"\n",
    "            }\n",
    "          }\n",
    "        ],\n",
    "        \"lotNumber\": \"0000007\"\n",
    "      }\n",
    "    }\n",
    "  ]\n",
    "}"
   ]
  },
  {
   "cell_type": "markdown",
   "id": "found-murray",
   "metadata": {},
   "source": [
    "A couple things to note in the above JSON. This is a Bundle that contains 3 resources: one for the patient, one for the first vaccination, and another for the second vaccination. This Bundle conforms to the requirements laid out in [SMART Health Cards: Vaccination & Testing Implementation Guide](http://build.fhir.org/ig/dvci/vaccine-credential-ig/branches/main/) which defines what resources should be included in the Health Card. Specifically, this is an example of [Vaccine Credential Bundle - Data Minimization](http://build.fhir.org/ig/dvci/vaccine-credential-ig/branches/main/StructureDefinition-vaccine-credential-bundle-dm.html). We'll talk about what \"Data Minimization\" means in a second.\n",
    "\n",
    "Now let's create the \"Expanded Health Card\"."
   ]
  },
  {
   "cell_type": "markdown",
   "id": "excited-fraction",
   "metadata": {},
   "source": [
    "### Expanded Health Card\n",
    "\n",
    "The Expanded Health Card shows what the Health Card looks like before it is minified and serialized using the compact JWS serialization.\n",
    "\n",
    "[Health Cards are encoded as Compact Serialization JSON Web Signatures (JWS)](https://smarthealth.cards/#health-cards-are-encoded-as-compact-serialization-json-web-signatures-jws) and [Modeling W3C Verifiable Credentials in FHIR](https://smarthealth.cards/credential-modeling/) cover this in more detail.\n",
    "\n",
    "Before we get into the details it's important to note that some of the VC properties are mapped to standard JWT fields when using the [JWT encoding](https://w3c.github.io/vc-data-model/#jwt-encoding) (which we are). These include the `iss` and `nbf` fields.\n",
    "\n",
    "Below shows the expanded Health Card for the example:"
   ]
  },
  {
   "cell_type": "code",
   "execution_count": 2,
   "id": "fleet-cream",
   "metadata": {},
   "outputs": [],
   "source": [
    "const expandedHealthCard = {\n",
    "  \"iss\": \"https://smarthealth.cards/examples/issuer\",\n",
    "  \"nbf\": Date.now() / 1000,\n",
    "  \"vc\": {\n",
    "    \"@context\": [\n",
    "      \"https://www.w3.org/2018/credentials/v1\"\n",
    "    ],\n",
    "    \"type\": [\n",
    "      \"VerifiableCredential\",\n",
    "      \"https://smarthealth.cards#health-card\",\n",
    "      \"https://smarthealth.cards#immunization\",\n",
    "      \"https://smarthealth.cards#covid19\"\n",
    "    ],\n",
    "    \"credentialSubject\": {\n",
    "        \"fhirVersion\": \"4.0.1\",\n",
    "        \"fhirBundle\": fhirBundle\n",
    "    }\n",
    "  }\n",
    "}"
   ]
  },
  {
   "cell_type": "markdown",
   "id": "interpreted-estate",
   "metadata": {},
   "source": [
    "Let's talk about the three root fields:\n",
    "\n",
    "`iss` - This represents the [Issuer](https://w3c.github.io/vc-data-model/#issuer)\n",
    "  * Note this property is represented by `iss` according to the [JWT Encoding Rules](https://w3c.github.io/vc-data-model/#jwt-encoding)\n",
    "\n",
    "`nbf` - This represents the [IssuanceDate](https://w3c.github.io/vc-data-model/#issuance-date)\n",
    "  * Note this property is represented by `nbf`.\n",
    "\n",
    "`vc` - This represents the VC claim minus all the unmapped fields (`iss` and `nbf`)\n",
    "\n",
    "\n",
    "TODO: Fill out the rest of these properties"
   ]
  },
  {
   "cell_type": "markdown",
   "id": "related-cruise",
   "metadata": {},
   "source": [
    "### Health Cards are Small\n",
    "\n",
    "SMART Health Cards can be issued on pieces of paper via QR Codes. This introduces some unique size constraints in order to keep the number and size of QR codes manageable. When using and applying SMART Health Cards, it's important to keep them small.\n",
    "\n",
    "The SMART Health Card spec requires that [the JWS payload is minified and compressed](https://smarthealth.cards/#health-cards-are-small) in order to reduce payload size.\n",
    "\n",
    "SMART Health Cards are designed to be be atomic and shared as a whole. Information within the Health Card cannot be removed without affecting the verifiability of the Health Card. This imposes a privacy challenge when too much information is included in a single Health Card.\n",
    "\n",
    "The \"Data Minimization\" profiles in the IG are designed to address these size and privacy concerns by ensuring the FHIR profiles only require the minimal set of information to achieve the desired results.\n",
    "\n",
    "Below the JWS Payload (i.e. the \"Expanded Health Card\") is compressed according to the spec:"
   ]
  },
  {
   "cell_type": "code",
   "execution_count": 3,
   "id": "seasonal-begin",
   "metadata": {
    "scrolled": true
   },
   "outputs": [
    {
     "name": "stdout",
     "output_type": "stream",
     "text": [
      "{\"iss\":\"https://smarthealth.cards/examples/issuer\",\"nbf\":1644356132.146,\"vc\":{\"@context\":[\"https://www.w3.org/2018/credentials/v1\"],\"type\":[\"VerifiableCredential\",\"https://smarthealth.cards#health-card\",\"https://smarthealth.cards#immunization\",\"https://smarthealth.cards#covid19\"],\"credentialSubject\":{\"fhirVersion\":\"4.0.1\",\"fhirBundle\":{\"resourceType\":\"Bundle\",\"type\":\"collection\",\"entry\":[{\"fullUrl\":\"resource:0\",\"resource\":{\"resourceType\":\"Patient\",\"name\":[{\"family\":\"Anyperson\",\"given\":[\"John\",\"B.\"]}],\"birthDate\":\"1951-01-20\"}},{\"fullUrl\":\"resource:1\",\"resource\":{\"resourceType\":\"Immunization\",\"status\":\"completed\",\"vaccineCode\":{\"coding\":[{\"system\":\"http://hl7.org/fhir/sid/cvx\",\"code\":\"207\"}]},\"patient\":{\"reference\":\"resource:0\"},\"occurrenceDateTime\":\"2021-01-01\",\"performer\":[{\"actor\":{\"display\":\"ABC General Hospital\"}}],\"lotNumber\":\"0000001\"}},{\"fullUrl\":\"resource:2\",\"resource\":{\"resourceType\":\"Immunization\",\"status\":\"completed\",\"vaccineCode\":{\"coding\":[{\"system\":\"http://hl7.org/fhir/sid/cvx\",\"code\":\"207\"}]},\"patient\":{\"reference\":\"resource:0\"},\"occurrenceDateTime\":\"2021-01-29\",\"performer\":[{\"actor\":{\"display\":\"ABC General Hospital\"}}],\"lotNumber\":\"0000007\"}}]}}}}\n"
     ]
    }
   ],
   "source": [
    "// Remove the optional whitespace\n",
    "const noWhiteSpaceHealthCard = JSON.stringify(expandedHealthCard)\n",
    "console.log(noWhiteSpaceHealthCard)"
   ]
  },
  {
   "cell_type": "code",
   "execution_count": 4,
   "id": "divine-casino",
   "metadata": {},
   "outputs": [],
   "source": [
    "// Normally we'd remove some of the fhirBundle elements at \n",
    "// this step ( e.g. Resource.id, Resource.meta, CodebableConcept.text).\n",
    "// These are already missing from the original payload, so we'll skip that here\n",
    "\n",
    "// Compress the payload with DEFLATE, omitting any zlib headers\n",
    "\n",
    "const compressedPayload = zlib.deflateRawSync(noWhiteSpaceHealthCard)"
   ]
  },
  {
   "cell_type": "markdown",
   "id": "southwest-output",
   "metadata": {},
   "source": [
    "### Creating the Signed Health Card\n",
    "\n",
    "Now that we have the compressed payload we can sign it as a JWS. First, let's create the key pair for signing and verifying."
   ]
  },
  {
   "cell_type": "code",
   "execution_count": 5,
   "id": "wanted-mistress",
   "metadata": {},
   "outputs": [],
   "source": [
    "var jose = require('node-jose');\n",
    "\n",
    "const keystore = jose.JWK.createKeyStore()\n",
    "\n",
    "let signingKey;\n",
    "\n",
    "keystore.generate(\"EC\", \"P-256\").\n",
    "        then(function(result) {\n",
    "          // {result} is a jose.JWK.Key\n",
    "          signingKey = result;\n",
    "        });"
   ]
  },
  {
   "cell_type": "code",
   "execution_count": 6,
   "id": "characteristic-directory",
   "metadata": {},
   "outputs": [
    {
     "data": {
      "text/plain": [
       "{\n",
       "  keys: [\n",
       "    {\n",
       "      kty: 'EC',\n",
       "      kid: 'B3Cvg6YwLi5IW3Yf46hrFAX06bHnuQfVfztvMvgVyKg',\n",
       "      crv: 'P-256',\n",
       "      x: 'zoOQ4DGU7dYVKRbAMWKg00oYehPawIKjCf3i5CKAVzY',\n",
       "      y: '2_3aYyhXkTEaCsOfY97qaFxwXwslOzDNhcKt5nPixLc',\n",
       "      d: 'zc2JvvnPvftGxc5zaiaF96PAb-m0VlRsxrAGNE8u39s'\n",
       "    }\n",
       "  ]\n",
       "}"
      ]
     },
     "execution_count": 6,
     "metadata": {},
     "output_type": "execute_result"
    }
   ],
   "source": [
    "// Print the entire key store, including the `d` member which contains the private key value\n",
    "// Remove true to just present the public key\n",
    "// See: https://tools.ietf.org/id/draft-jones-jose-json-private-and-symmetric-key-00.html#rfc.section.3.1.1\n",
    "keystore.toJSON(true);"
   ]
  },
  {
   "cell_type": "markdown",
   "id": "ordered-preserve",
   "metadata": {},
   "source": [
    "With a signing key in hand we can create the JWS:"
   ]
  },
  {
   "cell_type": "code",
   "execution_count": 7,
   "id": "fantastic-absorption",
   "metadata": {},
   "outputs": [
    {
     "name": "stdout",
     "output_type": "stream",
     "text": [
      "eyJ6aXAiOiJERUYiLCJhbGciOiJFUzI1NiIsImtpZCI6IkIzQ3ZnNll3TGk1SVczWWY0NmhyRkFYMDZiSG51UWZWZnp0dk12Z1Z5S2cifQ.3VJNj9MwEP0rq-HaJnHa7dKcoEXi44CQ2OWCenCdaWPk2JHt9INV_jszbruAtNsTJ3wb-82b957nEXQIUEETYxeqPA-t9LFBaWKTKenrkONBtp3BkBOwRw8jsOsNVGI2nU5uZ2JSZmI6G8FOQfUIb5SzEQ8Rqu9PlPv9PttPMue3eVmI17nyWKONWpqQ7wSsRhCPHXLHN_R6o-Xa4PIJQ_Ne1PbqVIy5uIrTbdtb_VNG7exVoHI7XYs5i_ot82u__oEqsr9Noz2pDMxTwTQrMkF8fLvobW2QMR6D673C--QKzg8Xl6CcMcR2UkID_JGsE3NvzIM3BLj0VwUBLsUzxF_IDvXzh8gWTySy1Yb44K0ljA9pxlbv0HK8n1zD9SKD1UAG15rMv5ORucT8VowLMS4LGIbRs2rEdTUf_444RBn7kOzy9kTkD9pJpbTFpasTg3K1ttskPBxDxPa8h_QzjblLC8PJ5kHXudodiEClTiiLOxhWwwi6cwRJzgY9Wtb2Z4IEckr1Pj2x2XvdnijKZLhgWxTVxvmWlpu1SBWdZ8pah87IFOdiefMeLXppbj640OlIizlwiMbFz3275lYo0hEvJlj-lwmW83-d4B0_DHR-AQ.UYN504d_TzyM_7KzuyK3xTG6o3-KnF9maNHoz6ZnbrhS_Hma5b6NSC_VCn-44msrD0dNCAMhFgRqJLgtY29VJA\n"
     ]
    }
   ],
   "source": [
    "const fields = { zip: 'DEF' }\n",
    "\n",
    "let jws;\n",
    "\n",
    "jose.JWS.createSign({ format: 'compact', fields }, signingKey)\n",
    "    .update(Buffer.from(compressedPayload))\n",
    "    .final()\n",
    "    .then(function(result) {\n",
    "        jws = result;\n",
    "        console.log(jws)\n",
    "});"
   ]
  },
  {
   "cell_type": "markdown",
   "id": "pediatric-pressing",
   "metadata": {},
   "source": [
    "Now that we have the JWS we should check that we can actually verify the signature"
   ]
  },
  {
   "cell_type": "code",
   "execution_count": 8,
   "id": "difficult-packing",
   "metadata": {},
   "outputs": [
    {
     "name": "stdout",
     "output_type": "stream",
     "text": [
      "{\n",
      "  protected: [ 'zip', 'alg', 'kid' ],\n",
      "  header: {\n",
      "    zip: 'DEF',\n",
      "    alg: 'ES256',\n",
      "    kid: 'B3Cvg6YwLi5IW3Yf46hrFAX06bHnuQfVfztvMvgVyKg'\n",
      "  },\n",
      "  payload: <Buffer dd 52 4d 8f d3 30 10 fd 2b ab e1 da 26 71 da ed d2 9c a0 45 e2 e3 80 90 d8 e5 82 7a 70 9d 69 63 e4 d8 91 ed f4 83 55 fe 3b 33 6e bb 80 b4 db 13 27 7c ... 416 more bytes>,\n",
      "  signature: <Buffer 51 83 79 d3 87 7f 4f 3c 8c ff b2 b3 bb 22 b7 c5 31 ba a3 7f 8a 9c 5f 66 68 d1 e8 cf a6 67 6e b8 52 fc 79 9a e5 be 8d 48 2f d5 0a 7f b8 e2 6b 2b 0f 47 ... 14 more bytes>,\n",
      "  key: JWKBaseKeyObject {\n",
      "    keystore: JWKStore {},\n",
      "    length: 256,\n",
      "    kty: 'EC',\n",
      "    kid: 'B3Cvg6YwLi5IW3Yf46hrFAX06bHnuQfVfztvMvgVyKg',\n",
      "    use: '',\n",
      "    alg: ''\n",
      "  }\n",
      "}\n"
     ]
    }
   ],
   "source": [
    "jose.JWS.createVerify(signingKey)\n",
    "    .verify(jws).then(function(result) {\n",
    "    console.log(result)\n",
    "})"
   ]
  },
  {
   "cell_type": "markdown",
   "id": "discrete-morrison",
   "metadata": {},
   "source": [
    "Let's also create a fake key and test with that to make sure we aren't getting a false positive"
   ]
  },
  {
   "cell_type": "code",
   "execution_count": 9,
   "id": "biological-consumer",
   "metadata": {},
   "outputs": [],
   "source": [
    "let fakeKey;\n",
    "\n",
    "keystore.generate(\"EC\", \"P-256\").\n",
    "        then(function(result) {\n",
    "          // {result} is a jose.JWK.Key\n",
    "          fakeKey = result;\n",
    "        });"
   ]
  },
  {
   "cell_type": "code",
   "execution_count": 10,
   "id": "modern-label",
   "metadata": {},
   "outputs": [
    {
     "ename": "Error",
     "evalue": "no key found",
     "output_type": "error",
     "traceback": [
      "Error: no key found",
      "    at processSig (/Users/smcdougall/vci/health-cards-walkthrough/node_modules/node-jose/lib/jws/verify.js:131:22)",
      "    at processTicksAndRejections (node:internal/process/task_queues:96:5)"
     ]
    }
   ],
   "source": [
    "// Note \"Error: no key found\" is the generic error message for keys that won't decrypt\n",
    "// See: https://github.com/cisco/node-jose/issues/262\n",
    "jose.JWS.createVerify(fakeKey)\n",
    "    .verify(jws).then(function(result) {\n",
    "    console.log(result)\n",
    "})"
   ]
  },
  {
   "cell_type": "markdown",
   "id": "surrounded-conditioning",
   "metadata": {},
   "source": [
    "### QR Code Generation\n",
    "\n",
    "Now that we have a JWS, we can turn that into a scannable QR Code. We do not need to worry about chunking just yet since the payload is below the 1195 character threshold in this example, but we will include the chunking code to show how the process works for larger examples.\n",
    "\n",
    "As part of our design, we want to keep the `errorCorrectionLevel` to be `'low'`. "
   ]
  },
  {
   "cell_type": "code",
   "execution_count": 11,
   "id": "c1e7ef6c",
   "metadata": {},
   "outputs": [],
   "source": [
    "const MAX_SINGLE_JWS_SIZE = 1195;\n",
    "const MAX_CHUNK_SIZE = 1191;\n",
    "const splitJwsIntoChunks = (jws) => {\n",
    "  if (jws.length <= MAX_SINGLE_JWS_SIZE) {\n",
    "    return [jws];\n",
    "  }\n",
    "\n",
    "  // Try to split the chunks into roughly equal sizes.\n",
    "  const chunkCount = Math.ceil(jws.length / MAX_CHUNK_SIZE);\n",
    "  const chunkSize = Math.ceil(jws.length / chunkCount);\n",
    "  const chunks = jws.match(new RegExp(`.{1,${chunkSize}}`, 'g'));\n",
    "  return chunks || [];\n",
    "}"
   ]
  },
  {
   "cell_type": "markdown",
   "id": "76e59888",
   "metadata": {},
   "source": [
    "When encoding chunks as QR codes, we let `N` represent the total number of chunks required, and `C` represent the index of the current chunk. These values are appended to the fixed string `shc:/` of the QR code's first data segment so that we know what chunk the QR code represents. For example, if we have `N=3` chunks and are working with the second chunk (`C = 2`), the first segment of the QR code will begin with `shc:/2/3/`.\n",
    "\n",
    "These chunking indices are omitted when `N = 1`, but we will include the code to show how the string representation looks for larger examples. In our example, the total number of chunks is represented as `chunkCount` and the index of the current chunk is represented as `jwsChunk`."
   ]
  },
  {
   "cell_type": "code",
   "execution_count": 13,
   "id": "presidential-turkey",
   "metadata": {},
   "outputs": [
    {
     "data": {
      "image/svg+xml": [
       "<svg xmlns=\"http://www.w3.org/2000/svg\" viewBox=\"0 0 97 97\" shape-rendering=\"crispEdges\"><path fill=\"#ffffff\" d=\"M0 0h97v97H0z\"/><path stroke=\"#000000\" d=\"M4 4.5h7m2 0h2m2 0h1m2 0h1m3 0h1m5 0h1m1 0h1m1 0h1m2 0h7m1 0h2m1 0h1m2 0h1m2 0h1m3 0h1m2 0h2m1 0h1m1 0h1m5 0h4m2 0h1m3 0h3m1 0h7M4 5.5h1m5 0h1m1 0h1m2 0h5m1 0h1m1 0h3m1 0h1m1 0h1m1 0h2m1 0h4m1 0h5m1 0h3m1 0h1m1 0h3m2 0h7m1 0h1m3 0h1m1 0h2m2 0h3m1 0h3m2 0h1m2 0h1m5 0h1M4 6.5h1m1 0h3m1 0h1m1 0h1m2 0h1m1 0h1m2 0h3m1 0h1m1 0h1m2 0h2m1 0h5m1 0h2m4 0h2m2 0h1m4 0h1m4 0h2m2 0h1m1 0h3m2 0h5m1 0h3m1 0h1m6 0h1m1 0h3m1 0h1M4 7.5h1m1 0h3m1 0h1m4 0h1m5 0h1m2 0h3m1 0h7m1 0h1m2 0h2m3 0h4m4 0h1m2 0h2m3 0h1m4 0h3m1 0h1m2 0h1m2 0h2m3 0h3m1 0h1m1 0h1m1 0h3m1 0h1M4 8.5h1m1 0h3m1 0h1m1 0h3m2 0h1m1 0h1m1 0h4m3 0h3m1 0h5m3 0h2m1 0h1m1 0h3m2 0h1m1 0h1m1 0h2m1 0h6m1 0h1m1 0h1m2 0h4m2 0h1m3 0h2m2 0h1m2 0h1m1 0h3m1 0h1M4 9.5h1m5 0h1m1 0h1m1 0h1m1 0h2m1 0h1m3 0h2m1 0h2m1 0h1m2 0h1m3 0h1m6 0h1m1 0h1m1 0h2m1 0h1m1 0h1m1 0h5m3 0h1m1 0h1m1 0h2m2 0h1m1 0h3m2 0h1m1 0h1m1 0h1m1 0h1m2 0h1m5 0h1M4 10.5h7m1 0h1m1 0h1m1 0h1m1 0h1m1 0h1m1 0h1m1 0h1m1 0h1m1 0h1m1 0h1m1 0h1m1 0h1m1 0h1m1 0h1m1 0h1m1 0h1m1 0h1m1 0h1m1 0h1m1 0h1m1 0h1m1 0h1m1 0h1m1 0h1m1 0h1m1 0h1m1 0h1m1 0h1m1 0h1m1 0h1m1 0h1m1 0h1m1 0h1m1 0h1m1 0h1m1 0h1m1 0h1m1 0h7M12 11.5h1m2 0h4m1 0h3m4 0h3m2 0h1m3 0h1m1 0h3m5 0h1m1 0h1m1 0h6m1 0h2m3 0h2m1 0h1m1 0h1m1 0h3m1 0h3m1 0h1m5 0h1M4 12.5h2m1 0h1m2 0h2m1 0h2m1 0h2m2 0h1m1 0h1m2 0h1m1 0h2m3 0h8m1 0h1m2 0h2m5 0h1m1 0h4m1 0h5m5 0h2m1 0h3m1 0h2m5 0h1m3 0h3m1 0h2M4 13.5h3m1 0h1m2 0h1m5 0h2m2 0h1m1 0h1m1 0h1m2 0h2m2 0h1m1 0h2m1 0h3m3 0h2m1 0h3m1 0h1m1 0h7m1 0h1m2 0h1m1 0h2m2 0h4m3 0h4m1 0h1m2 0h4m1 0h1M6 14.5h1m1 0h4m2 0h1m1 0h1m2 0h1m1 0h2m1 0h2m1 0h2m1 0h2m7 0h3m1 0h1m2 0h1m1 0h1m1 0h2m2 0h1m2 0h1m5 0h5m1 0h2m1 0h1m6 0h2m3 0h2m3 0h4M4 15.5h1m1 0h1m2 0h1m1 0h2m1 0h2m1 0h1m2 0h1m1 0h1m2 0h4m2 0h4m1 0h1m1 0h1m1 0h7m2 0h3m1 0h1m1 0h4m1 0h1m1 0h1m1 0h1m1 0h2m1 0h3m1 0h1m2 0h3m2 0h1m1 0h3m2 0h2m1 0h2M4 16.5h2m3 0h2m1 0h2m1 0h2m1 0h3m3 0h1m2 0h7m1 0h2m1 0h1m3 0h1m1 0h1m2 0h5m1 0h2m1 0h1m1 0h1m1 0h4m2 0h1m3 0h2m6 0h1m1 0h1m1 0h1m1 0h1m3 0h1M4 17.5h1m3 0h2m1 0h1m2 0h2m2 0h1m1 0h1m1 0h2m1 0h3m2 0h1m3 0h1m2 0h2m4 0h1m5 0h1m1 0h2m2 0h3m1 0h1m1 0h3m1 0h1m1 0h1m1 0h1m1 0h1m1 0h2m1 0h1m1 0h1m1 0h1m3 0h1m1 0h2m2 0h2M6 18.5h1m1 0h3m1 0h1m1 0h2m1 0h1m1 0h1m3 0h3m6 0h1m1 0h2m1 0h4m2 0h1m1 0h3m1 0h1m2 0h5m1 0h1m2 0h2m4 0h1m1 0h1m1 0h1m3 0h1m1 0h1m3 0h2m2 0h8M5 19.5h5m2 0h1m8 0h3m3 0h1m1 0h1m1 0h5m2 0h8m1 0h2m5 0h1m4 0h7m1 0h1m1 0h1m3 0h1m1 0h2m3 0h1m2 0h1m1 0h1m1 0h4m1 0h1M4 20.5h1m2 0h1m2 0h1m14 0h1m2 0h1m1 0h1m5 0h2m2 0h1m1 0h1m1 0h3m1 0h3m1 0h2m2 0h1m1 0h3m1 0h1m1 0h1m2 0h1m4 0h1m3 0h2m1 0h1m2 0h2m2 0h1m1 0h1m1 0h1M5 21.5h2m1 0h1m4 0h1m1 0h5m2 0h2m1 0h1m3 0h3m1 0h1m2 0h6m1 0h2m3 0h1m1 0h1m1 0h4m1 0h1m1 0h1m2 0h1m2 0h10m1 0h4m1 0h1m1 0h1m6 0h1m1 0h1M5 22.5h7m3 0h3m2 0h3m3 0h3m3 0h2m1 0h1m3 0h1m1 0h1m1 0h5m3 0h1m1 0h4m2 0h1m2 0h7m2 0h1m2 0h4m1 0h1m1 0h3m3 0h1m3 0h1M7 23.5h2m2 0h2m2 0h3m1 0h1m1 0h1m1 0h1m3 0h1m4 0h5m1 0h2m3 0h1m2 0h1m1 0h1m1 0h1m1 0h4m1 0h1m1 0h4m3 0h6m3 0h1m1 0h3m1 0h2m2 0h2m1 0h1m3 0h1M4 24.5h1m1 0h1m1 0h1m1 0h4m1 0h3m1 0h1m2 0h1m3 0h2m1 0h4m2 0h1m1 0h2m2 0h1m1 0h3m2 0h1m2 0h1m2 0h8m1 0h4m1 0h4m3 0h2m2 0h4m5 0h1m1 0h1M4 25.5h1m3 0h1m2 0h8m1 0h1m2 0h3m3 0h2m2 0h1m1 0h3m1 0h2m6 0h1m1 0h3m1 0h1m2 0h1m3 0h1m1 0h1m2 0h3m2 0h2m3 0h2m2 0h2m2 0h2m1 0h1m4 0h1M4 26.5h1m3 0h3m1 0h1m1 0h2m4 0h2m2 0h2m1 0h1m1 0h3m3 0h3m1 0h1m2 0h7m3 0h3m3 0h1m2 0h2m2 0h2m3 0h2m1 0h2m1 0h1m1 0h1m1 0h1m1 0h3m2 0h1m2 0h3M5 27.5h5m3 0h3m2 0h2m2 0h4m1 0h3m1 0h1m2 0h1m1 0h1m1 0h1m1 0h1m1 0h1m2 0h1m1 0h1m1 0h3m2 0h1m2 0h4m2 0h1m1 0h2m1 0h2m1 0h2m1 0h1m3 0h1m4 0h1m2 0h3m3 0h1M7 28.5h1m2 0h6m1 0h2m1 0h2m3 0h2m2 0h1m1 0h7m1 0h1m1 0h6m1 0h3m1 0h4m2 0h1m1 0h5m4 0h2m4 0h2m1 0h5m2 0h1m3 0h2M5 29.5h4m3 0h1m2 0h1m1 0h1m2 0h1m2 0h1m2 0h4m2 0h1m2 0h1m1 0h1m1 0h1m2 0h1m2 0h1m1 0h2m2 0h1m2 0h1m1 0h1m2 0h8m1 0h4m2 0h3m1 0h1m2 0h1m4 0h1m1 0h1m1 0h1m1 0h1M4 30.5h1m1 0h6m1 0h1m6 0h1m2 0h6m3 0h3m5 0h3m1 0h3m2 0h1m1 0h1m6 0h2m1 0h2m1 0h1m1 0h1m4 0h3m4 0h2m2 0h1m2 0h1m5 0h1M4 31.5h3m4 0h2m1 0h1m1 0h3m2 0h2m1 0h1m1 0h3m1 0h3m2 0h2m1 0h1m4 0h2m2 0h1m1 0h1m2 0h2m6 0h2m1 0h2m2 0h2m3 0h1m1 0h1m1 0h2m1 0h3m1 0h4m5 0h1M4 32.5h1m3 0h5m2 0h1m1 0h1m1 0h1m1 0h1m1 0h3m2 0h9m1 0h2m1 0h1m6 0h1m2 0h1m2 0h1m1 0h1m1 0h5m1 0h3m1 0h1m2 0h2m1 0h3m1 0h1m1 0h1m1 0h8m1 0h1M4 33.5h1m3 0h1m3 0h4m4 0h4m1 0h2m1 0h1m1 0h1m1 0h1m3 0h1m1 0h2m2 0h5m1 0h5m2 0h2m1 0h1m3 0h1m1 0h2m1 0h1m2 0h2m3 0h6m1 0h3m3 0h3M5 34.5h1m2 0h1m1 0h1m1 0h1m1 0h3m1 0h2m2 0h1m1 0h1m1 0h1m1 0h3m1 0h1m1 0h1m1 0h1m1 0h6m2 0h1m3 0h9m1 0h1m1 0h1m1 0h2m2 0h4m1 0h1m2 0h3m1 0h1m1 0h3m1 0h1m1 0h1m2 0h1M8 35.5h1m3 0h2m1 0h1m2 0h2m2 0h1m1 0h1m1 0h1m1 0h1m3 0h1m3 0h2m2 0h1m1 0h1m1 0h2m2 0h1m2 0h1m5 0h2m3 0h4m1 0h2m1 0h1m1 0h2m1 0h3m1 0h1m1 0h4m3 0h2m1 0h2M4 36.5h3m1 0h5m2 0h1m1 0h2m2 0h2m3 0h2m4 0h5m1 0h1m6 0h2m1 0h1m1 0h1m1 0h1m1 0h2m1 0h7m2 0h1m1 0h1m2 0h2m1 0h1m4 0h3m1 0h7M7 37.5h2m3 0h2m5 0h1m1 0h2m1 0h3m1 0h4m2 0h2m1 0h3m1 0h2m1 0h5m1 0h4m1 0h1m2 0h1m2 0h2m3 0h1m2 0h1m2 0h1m1 0h1m3 0h1m4 0h3M4 38.5h1m3 0h4m2 0h1m1 0h1m1 0h1m4 0h3m2 0h2m1 0h1m2 0h2m7 0h1m4 0h2m1 0h1m2 0h1m1 0h2m1 0h9m3 0h1m2 0h3m1 0h1m1 0h3m2 0h6M5 39.5h2m1 0h1m3 0h1m1 0h1m2 0h2m1 0h3m3 0h2m1 0h3m2 0h3m3 0h1m1 0h4m1 0h1m1 0h2m1 0h2m1 0h1m2 0h1m2 0h1m1 0h3m2 0h7m1 0h1m1 0h1m2 0h1m1 0h3m4 0h1M5 40.5h2m1 0h1m1 0h1m2 0h1m3 0h1m1 0h1m3 0h5m3 0h7m2 0h1m2 0h3m2 0h1m1 0h1m3 0h1m3 0h4m1 0h5m1 0h2m1 0h3m1 0h2m1 0h5m2 0h1m3 0h1m1 0h1M5 41.5h3m3 0h1m1 0h1m1 0h1m4 0h3m1 0h1m3 0h1m2 0h1m1 0h2m1 0h3m1 0h2m5 0h1m1 0h1m2 0h1m1 0h1m3 0h1m1 0h1m1 0h4m2 0h1m2 0h5m4 0h1m4 0h1m1 0h4M4 42.5h2m1 0h2m1 0h1m1 0h1m2 0h2m1 0h3m1 0h2m2 0h3m1 0h3m2 0h1m4 0h5m1 0h1m3 0h1m1 0h2m2 0h7m1 0h1m1 0h1m1 0h2m1 0h1m1 0h1m2 0h2m2 0h1m3 0h2m2 0h1m1 0h3M4 43.5h6m2 0h1m3 0h1m3 0h2m2 0h1m1 0h1m4 0h2m1 0h3m2 0h1m1 0h1m1 0h1m2 0h6m6 0h2m1 0h2m3 0h1m2 0h1m2 0h5m4 0h1m2 0h1m1 0h2m1 0h2M4 44.5h2m2 0h3m2 0h2m3 0h1m2 0h8m5 0h2m2 0h3m1 0h2m1 0h2m3 0h1m1 0h3m2 0h2m3 0h1m1 0h1m1 0h2m1 0h3m1 0h3m2 0h1m1 0h1m2 0h1m1 0h1m2 0h2m1 0h1M4 45.5h2m7 0h1m1 0h2m1 0h2m2 0h1m1 0h4m1 0h1m2 0h1m2 0h2m2 0h1m1 0h1m1 0h2m3 0h1m3 0h1m3 0h2m3 0h3m1 0h2m1 0h6m2 0h3m2 0h4m2 0h1m1 0h1m1 0h1M7 46.5h1m1 0h2m1 0h1m1 0h7m4 0h2m3 0h1m4 0h1m1 0h2m1 0h4m4 0h2m1 0h1m1 0h5m1 0h1m3 0h1m2 0h1m4 0h2m1 0h1m4 0h3m2 0h1m5 0h3M4 47.5h1m2 0h2m2 0h1m3 0h2m1 0h1m2 0h4m1 0h5m5 0h2m3 0h2m3 0h2m1 0h2m1 0h4m1 0h1m1 0h2m3 0h1m2 0h4m2 0h3m1 0h1m1 0h3m2 0h1m2 0h2m2 0h1M8 48.5h1m1 0h2m3 0h4m1 0h1m1 0h2m1 0h1m1 0h2m1 0h2m1 0h4m2 0h2m3 0h2m1 0h2m2 0h1m2 0h1m3 0h3m1 0h2m3 0h1m2 0h2m3 0h1m1 0h1m2 0h1m1 0h1m3 0h1m1 0h2m1 0h2M4 49.5h3m1 0h1m2 0h1m3 0h1m2 0h2m2 0h1m2 0h5m1 0h4m1 0h3m3 0h1m2 0h1m3 0h3m1 0h3m1 0h3m1 0h1m1 0h2m1 0h2m1 0h1m1 0h2m2 0h2m2 0h1m1 0h1m5 0h3m2 0h1M4 50.5h1m1 0h1m1 0h3m2 0h1m2 0h1m1 0h6m4 0h1m1 0h3m1 0h2m4 0h1m3 0h2m1 0h2m1 0h2m1 0h1m6 0h1m4 0h4m2 0h1m1 0h1m2 0h2m5 0h1m2 0h5m1 0h1M5 51.5h5m2 0h1m2 0h2m1 0h1m1 0h1m1 0h2m1 0h2m2 0h1m1 0h2m2 0h1m1 0h2m2 0h1m1 0h4m1 0h2m1 0h5m5 0h1m4 0h1m1 0h1m1 0h3m2 0h2m1 0h2m1 0h1m1 0h1m1 0h1m1 0h1m2 0h2M4 52.5h3m1 0h1m1 0h1m1 0h1m1 0h2m5 0h4m2 0h1m2 0h1m1 0h3m3 0h1m1 0h2m1 0h3m2 0h2m3 0h1m1 0h1m1 0h2m3 0h4m2 0h2m2 0h3m2 0h2m1 0h1m1 0h1m1 0h3m1 0h1m3 0h1M5 53.5h4m2 0h1m3 0h2m1 0h1m1 0h3m2 0h2m1 0h1m1 0h1m1 0h2m2 0h1m2 0h1m2 0h1m6 0h2m1 0h1m2 0h1m1 0h3m1 0h2m1 0h1m4 0h1m1 0h2m1 0h2m2 0h2m1 0h3m2 0h2M4 54.5h5m1 0h1m1 0h1m2 0h1m5 0h3m7 0h1m2 0h2m1 0h4m1 0h1m1 0h1m1 0h2m2 0h1m3 0h3m1 0h2m1 0h4m1 0h1m2 0h1m2 0h2m4 0h1m7 0h7M5 55.5h2m2 0h1m3 0h1m1 0h1m3 0h2m1 0h2m1 0h1m2 0h1m2 0h7m2 0h1m2 0h1m1 0h1m1 0h1m2 0h2m1 0h1m1 0h1m1 0h2m1 0h2m1 0h3m1 0h2m4 0h1m1 0h3m1 0h3m1 0h1m1 0h2m1 0h2m2 0h1M7 56.5h1m2 0h1m2 0h4m1 0h1m1 0h1m1 0h2m2 0h2m1 0h6m1 0h2m2 0h2m5 0h2m1 0h1m4 0h4m1 0h2m4 0h3m1 0h1m1 0h1m2 0h2m2 0h1m5 0h1M4 57.5h1m1 0h4m3 0h1m1 0h2m1 0h1m1 0h1m1 0h1m1 0h2m4 0h2m2 0h1m2 0h1m5 0h1m3 0h1m1 0h1m4 0h2m4 0h2m1 0h3m7 0h1m1 0h4m1 0h1m2 0h1m3 0h1m1 0h1m1 0h2M5 58.5h2m1 0h5m1 0h2m3 0h5m3 0h2m3 0h8m3 0h4m1 0h5m1 0h3m1 0h9m1 0h1m1 0h1m5 0h1m3 0h1m3 0h5m2 0h1M4 59.5h2m1 0h2m3 0h1m1 0h2m2 0h4m1 0h1m2 0h4m2 0h1m3 0h3m1 0h1m2 0h1m1 0h1m1 0h1m3 0h1m4 0h3m3 0h2m1 0h4m1 0h1m2 0h4m2 0h6m3 0h1m3 0h1M6 60.5h3m1 0h1m1 0h3m2 0h4m3 0h1m6 0h2m1 0h1m1 0h2m9 0h1m1 0h1m1 0h3m2 0h3m1 0h1m1 0h1m2 0h5m3 0h2m2 0h3m3 0h2m1 0h1m1 0h1m1 0h3M4 61.5h3m1 0h1m3 0h1m2 0h1m2 0h7m1 0h1m2 0h4m3 0h3m1 0h2m6 0h1m3 0h2m1 0h1m1 0h2m3 0h2m2 0h1m2 0h1m1 0h2m1 0h3m2 0h3m2 0h1m3 0h1m2 0h1M5 62.5h9m4 0h1m1 0h4m2 0h1m1 0h1m1 0h1m1 0h6m1 0h1m3 0h1m1 0h1m1 0h5m3 0h2m1 0h6m2 0h3m4 0h2m1 0h5m1 0h8m2 0h1M4 63.5h4m3 0h1m1 0h2m1 0h3m1 0h1m3 0h1m2 0h2m2 0h2m3 0h1m3 0h6m1 0h1m4 0h1m2 0h5m2 0h2m1 0h1m1 0h1m2 0h1m1 0h3m1 0h2m1 0h2m2 0h2m1 0h2m1 0h4M4 64.5h3m1 0h1m1 0h1m3 0h1m1 0h5m1 0h2m1 0h1m1 0h6m8 0h1m1 0h5m5 0h1m2 0h1m1 0h2m3 0h2m3 0h5m4 0h1m2 0h2m3 0h2m1 0h5M4 65.5h2m2 0h1m5 0h2m1 0h2m2 0h3m2 0h1m3 0h1m2 0h1m1 0h1m1 0h4m1 0h1m2 0h1m2 0h2m2 0h2m2 0h3m2 0h1m1 0h1m3 0h1m1 0h4m1 0h1m4 0h1m1 0h1m1 0h2m1 0h1m2 0h4M4 66.5h7m3 0h1m2 0h1m1 0h3m3 0h1m3 0h1m4 0h4m1 0h1m1 0h1m1 0h1m2 0h4m1 0h1m3 0h2m2 0h1m2 0h2m1 0h2m1 0h2m1 0h1m2 0h1m1 0h6m1 0h1m1 0h1m2 0h3m1 0h1M5 67.5h1m6 0h1m1 0h1m1 0h2m3 0h1m2 0h1m1 0h1m2 0h1m3 0h1m1 0h2m6 0h2m1 0h1m2 0h1m3 0h5m1 0h3m1 0h2m1 0h4m1 0h3m5 0h1m1 0h1m1 0h2m1 0h1m2 0h3M5 68.5h1m2 0h4m2 0h2m2 0h1m1 0h1m1 0h5m1 0h4m2 0h1m1 0h2m1 0h1m2 0h2m1 0h1m2 0h1m2 0h3m5 0h1m1 0h2m2 0h4m1 0h3m3 0h4m4 0h3m1 0h1m1 0h1M5 69.5h3m1 0h1m2 0h1m1 0h1m1 0h2m1 0h2m1 0h3m1 0h1m1 0h4m1 0h1m2 0h1m2 0h2m1 0h2m3 0h4m2 0h3m2 0h3m3 0h1m2 0h1m1 0h6m1 0h1m2 0h2m3 0h1m1 0h2m3 0h1M4 70.5h4m2 0h2m2 0h1m1 0h2m1 0h1m3 0h5m2 0h2m1 0h2m6 0h1m1 0h1m2 0h3m3 0h3m5 0h2m1 0h5m2 0h1m1 0h3m1 0h2m5 0h1m6 0h1m1 0h1M4 71.5h1m1 0h2m5 0h2m4 0h3m1 0h2m1 0h1m4 0h5m3 0h1m1 0h1m3 0h1m2 0h3m1 0h2m1 0h1m1 0h1m2 0h1m2 0h2m1 0h1m1 0h1m1 0h1m2 0h3m2 0h1m1 0h2m1 0h1m3 0h4M4 72.5h2m1 0h2m1 0h1m2 0h2m2 0h1m2 0h3m2 0h3m1 0h1m3 0h2m6 0h1m2 0h1m2 0h1m5 0h1m3 0h1m1 0h4m1 0h2m1 0h2m2 0h1m1 0h1m2 0h1m2 0h1m1 0h2m1 0h1m1 0h1m1 0h4M5 73.5h1m1 0h1m1 0h1m1 0h1m1 0h5m1 0h1m3 0h1m7 0h1m2 0h2m1 0h5m1 0h2m1 0h2m3 0h3m3 0h1m1 0h1m4 0h1m1 0h1m1 0h2m3 0h1m1 0h1m2 0h1m2 0h1m2 0h1m2 0h6M5 74.5h2m1 0h3m4 0h1m1 0h1m1 0h4m3 0h2m4 0h1m3 0h1m1 0h2m1 0h2m2 0h4m9 0h4m1 0h3m4 0h4m2 0h2m2 0h4m1 0h2m3 0h2M6 75.5h1m4 0h1m2 0h1m2 0h3m2 0h2m2 0h4m2 0h2m1 0h2m2 0h1m2 0h1m2 0h1m1 0h1m4 0h2m1 0h2m3 0h1m1 0h1m1 0h1m1 0h2m3 0h1m2 0h1m2 0h1m1 0h1m1 0h2m1 0h2m1 0h1m2 0h3M4 76.5h2m1 0h2m1 0h2m2 0h4m3 0h2m3 0h1m1 0h2m1 0h2m2 0h2m2 0h2m1 0h1m1 0h1m2 0h2m1 0h1m6 0h3m2 0h2m1 0h2m2 0h1m3 0h2m1 0h1m2 0h1m1 0h2m2 0h1m1 0h2m1 0h3M9 77.5h1m1 0h5m3 0h2m1 0h3m2 0h2m8 0h1m2 0h1m1 0h1m1 0h3m1 0h4m1 0h1m1 0h1m1 0h1m2 0h2m1 0h1m1 0h1m4 0h1m1 0h1m2 0h2m2 0h1m2 0h1m1 0h2m1 0h1m2 0h1M5 78.5h2m1 0h1m1 0h1m6 0h2m5 0h2m4 0h3m1 0h1m1 0h3m2 0h1m1 0h3m4 0h2m2 0h1m1 0h1m2 0h2m1 0h1m1 0h1m1 0h1m2 0h3m1 0h2m3 0h1m1 0h3m1 0h3m3 0h1M4 79.5h1m1 0h3m4 0h3m2 0h1m2 0h4m1 0h1m3 0h2m2 0h1m3 0h3m1 0h1m1 0h1m2 0h1m3 0h1m4 0h3m1 0h1m5 0h2m1 0h3m3 0h8m2 0h1m2 0h2m2 0h1M4 80.5h2m1 0h2m1 0h2m1 0h1m2 0h1m2 0h2m2 0h3m6 0h2m2 0h1m1 0h1m2 0h1m1 0h1m3 0h1m1 0h1m2 0h1m1 0h2m2 0h4m3 0h2m4 0h3m9 0h2m1 0h1m2 0h1m2 0h1M5 81.5h4m5 0h1m1 0h3m1 0h1m1 0h2m1 0h8m1 0h3m1 0h2m1 0h5m3 0h1m1 0h2m1 0h3m1 0h1m1 0h3m1 0h5m2 0h1m2 0h3m1 0h2m4 0h1m1 0h1m1 0h5M4 82.5h1m2 0h1m2 0h1m2 0h2m1 0h2m2 0h1m3 0h1m1 0h3m1 0h4m4 0h1m1 0h3m1 0h2m1 0h3m1 0h1m1 0h2m1 0h1m1 0h2m5 0h1m5 0h3m2 0h1m1 0h1m2 0h1m1 0h4m2 0h4M4 83.5h2m2 0h2m2 0h3m1 0h2m2 0h2m2 0h2m1 0h1m3 0h3m4 0h1m3 0h1m2 0h1m1 0h7m1 0h1m3 0h1m1 0h1m10 0h1m1 0h1m1 0h4m2 0h3m1 0h1m2 0h1m2 0h1M4 84.5h1m2 0h1m2 0h1m1 0h2m1 0h1m4 0h1m3 0h4m2 0h1m1 0h8m4 0h1m2 0h2m3 0h1m1 0h1m3 0h5m3 0h1m2 0h4m1 0h1m2 0h2m1 0h2m2 0h5m1 0h3M12 85.5h2m1 0h2m1 0h3m3 0h6m1 0h2m3 0h3m1 0h10m1 0h1m1 0h1m3 0h2m3 0h1m1 0h2m1 0h2m2 0h3m1 0h3m1 0h3m2 0h1m3 0h3M4 86.5h7m1 0h3m1 0h1m7 0h2m2 0h3m1 0h1m1 0h1m1 0h1m1 0h1m2 0h2m4 0h1m3 0h1m1 0h1m2 0h3m1 0h1m1 0h1m4 0h1m6 0h1m4 0h1m1 0h2m1 0h1m1 0h1m1 0h1m1 0h1M4 87.5h1m5 0h1m2 0h1m1 0h1m2 0h2m2 0h3m4 0h2m1 0h1m3 0h2m1 0h3m1 0h2m1 0h5m1 0h3m3 0h1m3 0h2m2 0h5m6 0h1m3 0h1m1 0h2m3 0h2M4 88.5h1m1 0h3m1 0h1m3 0h1m1 0h2m6 0h1m6 0h7m2 0h1m1 0h2m3 0h4m2 0h4m1 0h6m1 0h6m1 0h3m2 0h2m1 0h1m1 0h1m1 0h5m2 0h1M4 89.5h1m1 0h3m1 0h1m1 0h2m1 0h1m2 0h1m1 0h1m1 0h1m1 0h1m1 0h2m3 0h2m1 0h1m8 0h2m1 0h1m1 0h1m2 0h1m5 0h5m2 0h1m2 0h6m1 0h1m1 0h1m1 0h3m6 0h2m1 0h3M4 90.5h1m1 0h3m1 0h1m2 0h1m2 0h1m3 0h1m1 0h2m2 0h2m2 0h8m5 0h2m2 0h3m1 0h3m1 0h4m2 0h2m1 0h3m2 0h2m1 0h4m1 0h3m1 0h2m1 0h1m3 0h2m2 0h1M4 91.5h1m5 0h1m1 0h1m2 0h2m1 0h2m1 0h2m2 0h3m1 0h1m2 0h1m1 0h1m2 0h1m3 0h1m2 0h4m1 0h2m4 0h1m4 0h3m1 0h1m2 0h1m1 0h3m1 0h1m1 0h1m2 0h1m1 0h1m3 0h2m2 0h1m2 0h1M4 92.5h7m1 0h3m1 0h1m5 0h2m1 0h4m1 0h1m1 0h1m8 0h2m2 0h2m2 0h3m4 0h2m2 0h1m1 0h1m3 0h1m2 0h7m2 0h1m1 0h1m1 0h1m1 0h2m3 0h1m1 0h1\"/></svg>\n"
      ]
     },
     "execution_count": 12,
     "metadata": {},
     "output_type": "execute_result"
    }
   ],
   "source": [
    "// Create array of chunks to convert into numeric mode QRs\n",
    "var QRCode = require('qrcode')\n",
    "const jwsChunks = splitJwsIntoChunks(jws);\n",
    "\n",
    "// Save QR code data for future comparison with scanned QR Code\n",
    "let qrCodesData = [];\n",
    "\n",
    "const obtainQRCodeData = async() => {\n",
    "    //let qrCodesData = [];\n",
    "    const promises = jwsChunks.map(async (jwsChunk, i) => {\n",
    "        //jwsChunks.forEach(async function(jwsChunk, i) {\n",
    "        // This code snippet was adapted/taken from https://github.com/smart-on-fhir/health-cards/blob/152a4f83b223b5fd14027f765e957e290649f2c0/generate-examples/src/index.ts#L173\n",
    "        const numericJWS = jwsChunk.split('')\n",
    "            .map((c) => c.charCodeAt(0) - 45)\n",
    "            .flatMap((c) => [Math.floor(c / 10), c % 10]) //Need to maintain leading zeros\n",
    "            .join('')\n",
    "\n",
    "        const segments = [\n",
    "        // Add index of current chunk if there is more than one chunk\n",
    "        {data: 'shc:/' + ((jwsChunks.length > 1) ? `${jwsChunk + 1}/${chunkCount}/` : ``), mode: 'byte'},\n",
    "        {data: numericJWS, mode: 'numeric'}\n",
    "        ]\n",
    "\n",
    "        let qrSVG\n",
    "        // QR code version will default to smallest possible version\n",
    "        await QRCode.toString(segments,{type: 'svg', errorCorrectionLevel: 'low'}).then(function(result){\n",
    "            qrSVG = result\n",
    "            $$.svg(qrSVG)\n",
    "        });\n",
    "        // Also print as PNG for scanning later on.\n",
    "        QRCode.toFile(`./js_qrcode${i}.png`, segments, {width: 800})\n",
    "        \n",
    "        const qrCode = segments[0].data + segments[1].data\n",
    "        return qrCode;\n",
    "    });\n",
    "    const res = await Promise.all(promises);\n",
    "    return res;\n",
    "}\n",
    "\n",
    "obtainQRCodeData().then(results => {\n",
    "    results.forEach(result => {\n",
    "        qrCodesData.push(result);\n",
    "    })\n",
    "})"
   ]
  },
  {
   "cell_type": "code",
   "execution_count": 13,
   "id": "499d2b49",
   "metadata": {},
   "outputs": [
    {
     "name": "stdout",
     "output_type": "stream",
     "text": [
      "[\n",
      "  'shc:/567629095243206034602924374044603122295953265460346029254077280433602870286471674522280928622877360645653363630639266204384154774242440333645976376225443223456038260804404245424565670355620405450445083805546057360106412933611232742435036968002752296527521055305466244360070722360534422256652255524235620529277112283341506170775369722071337039290674530011055312081065244336284024243944755668352000711231252152423039305665696234332171670621622134743774116170347033412628056540087245052938456428092611253436574028530838772436113768721235633573123571713532725606564164280410657642303433426768361074387037592235274331273350370966004352073528293650335604355368412876087228693953557153504133261056754166272810434470086050667111057250506624687069123366770567233275397439366932622511573173665342053632370923091006220000363077581143630922543254370540622823502926702406337377283206213161034174402131704077752550282373437759115842397638760444530707300363612012677563537303273011650477231238302304402026040869327308343772543911416674313238073126285337700569245539405750070707372165106234777612623962231267296753392567527039580630047171706235217523753552115950367761536331221135290862274372556655602422633960603134755942747460095474372977584412427153054507282454626904356105750543735565606130453159584275394175736442636772043821425545116752591110282534556056573256314367675361090703346328607763746032532577060510086344660359247329636100637464421106005507210350232737002036014044330803075550397776325010307772763006753926096606003065251264523327667709456553695938502764520853093338225041226500070764706923035533222032592558376829315871440512412920'\n",
      "]\n"
     ]
    }
   ],
   "source": [
    "console.log(qrCodesData)"
   ]
  },
  {
   "cell_type": "markdown",
   "id": "undefined-telephone",
   "metadata": {},
   "source": [
    "The above shows what the value of the QR code will be, with the leading `byte` segment and the `numeric` segment following"
   ]
  },
  {
   "cell_type": "markdown",
   "id": "tender-viewer",
   "metadata": {},
   "source": [
    "### QR Code Scanning\n",
    "\n",
    "Now let's try and scan the QR Code!"
   ]
  },
  {
   "cell_type": "code",
   "execution_count": 14,
   "id": "inner-enhancement",
   "metadata": {
    "scrolled": true
   },
   "outputs": [
    {
     "name": "stdout",
     "output_type": "stream",
     "text": [
      "Are the QR Codes Equal? true\n",
      "shc:/567629095243206034602924374044603122295953265460346029254077280433602870286471674522280928622877360645653363630639266204384154774242440333645976376225443223456038260804404245424565670355620405450445083805546057360106412933611232742435036968002752296527521055305466244360070722360534422256652255524235620529277112283341506170775369722071337039290674530011055312081065244336284024243944755668352000711231252152423039305665696234332171670621622134743774116170347033412628056540087245052938456428092611253436574028530838772436113768721235633573123571713532725606564164280410657642303433426768361074387037592235274331273350370966004352073528293650335604355368412876087228693953557153504133261056754166272810434470086050667111057250506624687069123366770567233275397439366932622511573173665342053632370923091006220000363077581143630922543254370540622823502926702406337377283206213161034174402131704077752550282373437759115842397638760444530707300363612012677563537303273011650477231238302304402026040869327308343772543911416674313238073126285337700569245539405750070707372165106234777612623962231267296753392567527039580630047171706235217523753552115950367761536331221135290862274372556655602422633960603134755942747460095474372977584412427153054507282454626904356105750543735565606130453159584275394175736442636772043821425545116752591110282534556056573256314367675361090703346328607763746032532577060510086344660359247329636100637464421106005507210350232737002036014044330803075550397776325010307772763006753926096606003065251264523327667709456553695938502764520853093338225041226500070764706923035533222032592558376829315871440512412920\n"
     ]
    }
   ],
   "source": [
    "var jsQR = require('jsqr');\n",
    "var PNG = require('pngjs').PNG;\n",
    "\n",
    "imageData = PNG.sync.read(fs.readFileSync('./js_qrcode0.png'))\n",
    "\n",
    "const scannedQR = jsQR(new Uint8ClampedArray(imageData.data.buffer), imageData.width, imageData.height)\n",
    "\n",
    "const qrCodesEqual = scannedQR.data === qrCodesData[0]\n",
    "\n",
    "console.log(\"Are the QR Codes Equal? \" + qrCodesEqual)\n",
    "\n",
    "console.log(scannedQR.data)"
   ]
  },
  {
   "cell_type": "markdown",
   "id": "dense-colleague",
   "metadata": {},
   "source": [
    "### Extracting Data from the QR Code\n",
    "\n",
    "Now let's reverse the process to get the original data back and check the signature. First, let's extract the JWS."
   ]
  },
  {
   "cell_type": "code",
   "execution_count": 15,
   "id": "engaging-shape",
   "metadata": {},
   "outputs": [
    {
     "name": "stdout",
     "output_type": "stream",
     "text": [
      "eyJ6aXAiOiJERUYiLCJhbGciOiJFUzI1NiIsImtpZCI6IkIzQ3ZnNll3TGk1SVczWWY0NmhyRkFYMDZiSG51UWZWZnp0dk12Z1Z5S2cifQ.3VJNj9MwEP0rq-HaJnHa7dKcoEXi44CQ2OWCenCdaWPk2JHt9INV_jszbruAtNsTJ3wb-82b957nEXQIUEETYxeqPA-t9LFBaWKTKenrkONBtp3BkBOwRw8jsOsNVGI2nU5uZ2JSZmI6G8FOQfUIb5SzEQ8Rqu9PlPv9PttPMue3eVmI17nyWKONWpqQ7wSsRhCPHXLHN_R6o-Xa4PIJQ_Ne1PbqVIy5uIrTbdtb_VNG7exVoHI7XYs5i_ot82u__oEqsr9Noz2pDMxTwTQrMkF8fLvobW2QMR6D673C--QKzg8Xl6CcMcR2UkID_JGsE3NvzIM3BLj0VwUBLsUzxF_IDvXzh8gWTySy1Yb44K0ljA9pxlbv0HK8n1zD9SKD1UAG15rMv5ORucT8VowLMS4LGIbRs2rEdTUf_444RBn7kOzy9kTkD9pJpbTFpasTg3K1ttskPBxDxPa8h_QzjblLC8PJ5kHXudodiEClTiiLOxhWwwi6cwRJzgY9Wtb2Z4IEckr1Pj2x2XvdnijKZLhgWxTVxvmWlpu1SBWdZ8pah87IFOdiefMeLXppbj640OlIizlwiMbFz3275lYo0hEvJlj-lwmW83-d4B0_DHR-AQ.UYN504d_TzyM_7KzuyK3xTG6o3-KnF9maNHoz6ZnbrhS_Hma5b6NSC_VCn-44msrD0dNCAMhFgRqJLgtY29VJA\n"
     ]
    }
   ],
   "source": [
    "const scannedJWS = scannedQR\n",
    "    .chunks\n",
    "    .filter(chunk => chunk.type === \"numeric\")[0] // Grab the numeric chunk\n",
    "    .text.match(/(..?)/g) // Split into groups of 2 numeric characters each of which represent a single JWS char\n",
    "    .map(num => String.fromCharCode(parseInt(num, 10) + 45)).join('') // Convert from numeric encoding to JWS\n",
    "\n",
    "console.log(scannedJWS)"
   ]
  },
  {
   "cell_type": "markdown",
   "id": "surgical-techno",
   "metadata": {},
   "source": [
    "Next we can verify the signature and extract the payload"
   ]
  },
  {
   "cell_type": "code",
   "execution_count": 16,
   "id": "arabic-infrastructure",
   "metadata": {},
   "outputs": [],
   "source": [
    "let scannedResult;\n",
    "\n",
    "jose.JWS.createVerify(signingKey)\n",
    "    .verify(scannedJWS).then(function(result) {\n",
    "    zlib.inflateRaw(result.payload, function(err, decompressedResult){\n",
    "        scannedResult = decompressedResult.toString('utf8')\n",
    "    })\n",
    "})"
   ]
  },
  {
   "cell_type": "code",
   "execution_count": 17,
   "id": "processed-killer",
   "metadata": {},
   "outputs": [
    {
     "data": {
      "text/plain": [
       "'{\"iss\":\"https://smarthealth.cards/examples/issuer\",\"nbf\":1644356132.146,\"vc\":{\"@context\":[\"https://www.w3.org/2018/credentials/v1\"],\"type\":[\"VerifiableCredential\",\"https://smarthealth.cards#health-card\",\"https://smarthealth.cards#immunization\",\"https://smarthealth.cards#covid19\"],\"credentialSubject\":{\"fhirVersion\":\"4.0.1\",\"fhirBundle\":{\"resourceType\":\"Bundle\",\"type\":\"collection\",\"entry\":[{\"fullUrl\":\"resource:0\",\"resource\":{\"resourceType\":\"Patient\",\"name\":[{\"family\":\"Anyperson\",\"given\":[\"John\",\"B.\"]}],\"birthDate\":\"1951-01-20\"}},{\"fullUrl\":\"resource:1\",\"resource\":{\"resourceType\":\"Immunization\",\"status\":\"completed\",\"vaccineCode\":{\"coding\":[{\"system\":\"http://hl7.org/fhir/sid/cvx\",\"code\":\"207\"}]},\"patient\":{\"reference\":\"resource:0\"},\"occurrenceDateTime\":\"2021-01-01\",\"performer\":[{\"actor\":{\"display\":\"ABC General Hospital\"}}],\"lotNumber\":\"0000001\"}},{\"fullUrl\":\"resource:2\",\"resource\":{\"resourceType\":\"Immunization\",\"status\":\"completed\",\"vaccineCode\":{\"coding\":[{\"system\":\"http://hl7.org/fhir/sid/cvx\",\"code\":\"207\"}]},\"patient\":{\"reference\":\"resource:0\"},\"occurrenceDateTime\":\"2021-01-29\",\"performer\":[{\"actor\":{\"display\":\"ABC General Hospital\"}}],\"lotNumber\":\"0000007\"}}]}}}}'"
      ]
     },
     "execution_count": 17,
     "metadata": {},
     "output_type": "execute_result"
    }
   ],
   "source": [
    "scannedResult"
   ]
  },
  {
   "cell_type": "markdown",
   "id": "interstate-registration",
   "metadata": {},
   "source": [
    "Let's compare this to our original minified payload with whitespace removed"
   ]
  },
  {
   "cell_type": "code",
   "execution_count": 18,
   "id": "least-pregnancy",
   "metadata": {},
   "outputs": [
    {
     "data": {
      "text/plain": [
       "true"
      ]
     },
     "execution_count": 18,
     "metadata": {},
     "output_type": "execute_result"
    }
   ],
   "source": [
    "scannedResult === noWhiteSpaceHealthCard"
   ]
  },
  {
   "cell_type": "markdown",
   "id": "partial-confidentiality",
   "metadata": {},
   "source": [
    "Finally, lets print the entries for easy inspection."
   ]
  },
  {
   "cell_type": "code",
   "execution_count": 19,
   "id": "quick-disaster",
   "metadata": {},
   "outputs": [
    {
     "name": "stdout",
     "output_type": "stream",
     "text": [
      "{\n",
      "  \"fullUrl\": \"resource:0\",\n",
      "  \"resource\": {\n",
      "    \"resourceType\": \"Patient\",\n",
      "    \"name\": [\n",
      "      {\n",
      "        \"family\": \"Anyperson\",\n",
      "        \"given\": [\n",
      "          \"John\",\n",
      "          \"B.\"\n",
      "        ]\n",
      "      }\n",
      "    ],\n",
      "    \"birthDate\": \"1951-01-20\"\n",
      "  }\n",
      "}\n",
      "{\n",
      "  \"fullUrl\": \"resource:1\",\n",
      "  \"resource\": {\n",
      "    \"resourceType\": \"Immunization\",\n",
      "    \"status\": \"completed\",\n",
      "    \"vaccineCode\": {\n",
      "      \"coding\": [\n",
      "        {\n",
      "          \"system\": \"http://hl7.org/fhir/sid/cvx\",\n",
      "          \"code\": \"207\"\n",
      "        }\n",
      "      ]\n",
      "    },\n",
      "    \"patient\": {\n",
      "      \"reference\": \"resource:0\"\n",
      "    },\n",
      "    \"occurrenceDateTime\": \"2021-01-01\",\n",
      "    \"performer\": [\n",
      "      {\n",
      "        \"actor\": {\n",
      "          \"display\": \"ABC General Hospital\"\n",
      "        }\n",
      "      }\n",
      "    ],\n",
      "    \"lotNumber\": \"0000001\"\n",
      "  }\n",
      "}\n",
      "{\n",
      "  \"fullUrl\": \"resource:2\",\n",
      "  \"resource\": {\n",
      "    \"resourceType\": \"Immunization\",\n",
      "    \"status\": \"completed\",\n",
      "    \"vaccineCode\": {\n",
      "      \"coding\": [\n",
      "        {\n",
      "          \"system\": \"http://hl7.org/fhir/sid/cvx\",\n",
      "          \"code\": \"207\"\n",
      "        }\n",
      "      ]\n",
      "    },\n",
      "    \"patient\": {\n",
      "      \"reference\": \"resource:0\"\n",
      "    },\n",
      "    \"occurrenceDateTime\": \"2021-01-29\",\n",
      "    \"performer\": [\n",
      "      {\n",
      "        \"actor\": {\n",
      "          \"display\": \"ABC General Hospital\"\n",
      "        }\n",
      "      }\n",
      "    ],\n",
      "    \"lotNumber\": \"0000007\"\n",
      "  }\n",
      "}\n"
     ]
    }
   ],
   "source": [
    "const entries = JSON.parse(scannedResult)\n",
    "    .vc.credentialSubject.fhirBundle.entry\n",
    "    .map(entry => console.log(JSON.stringify(entry, null, 2)))"
   ]
  },
  {
   "cell_type": "code",
   "execution_count": null,
   "id": "b57126a1",
   "metadata": {},
   "outputs": [],
   "source": []
  }
 ],
 "metadata": {
  "kernelspec": {
   "display_name": "Javascript (Node.js)",
   "language": "javascript",
   "name": "javascript"
  },
  "language_info": {
   "file_extension": ".js",
   "mimetype": "application/javascript",
   "name": "javascript",
   "version": "16.6.1"
  }
 },
 "nbformat": 4,
 "nbformat_minor": 5
}
