{
 "cells": [
  {
   "cell_type": "markdown",
   "id": "thick-dominican",
   "metadata": {},
   "source": [
    "# SMART Health Cards\n",
    "\n",
    "This notebook is designed to give an overview of [SMART Health Cards Framework](https://smarthealth.cards/) and how it works.\n",
    "\n",
    "\n",
    "This notebook is written in JavaScript and uses the [IJavascript kernel](https://github.com/n-riesco/ijavascript) for Jupyter Notebook."
   ]
  },
  {
   "cell_type": "markdown",
   "id": "portable-reducing",
   "metadata": {},
   "source": [
    "## Walkthrough\n",
    "\n",
    "The high level outline is as follows:\n",
    "* FHIR Bundle is created\n",
    "* FHIR Bundle is minified\n",
    "* SMART Health Card is created from FHIR Bundle\n",
    "* SMART Health Card is encoded as a JWS\n",
    "* Patient Retrieves the SMART Health Cards via:\n",
    "  * File Download\n",
    "  * QR Code\n",
    "  * FHIR API"
   ]
  },
  {
   "cell_type": "markdown",
   "id": "natural-gothic",
   "metadata": {},
   "source": [
    "### The FHIR Bundle\n",
    "\n",
    "A SMART Health Card is composed of a [W3C Verifiable Credential](https://w3c.github.io/vc-data-model/), [encoded as a JWT](https://w3c.github.io/vc-data-model/#jwt-encoding), with a Credential Subject that contains the FHIR version and a FHIR Bundle (See [Modeling W3C Verifiable Credentials in FHIR](https://smarthealth.cards/credential-modeling/).\n",
    "\n",
    "The FHIR Bundle contains the health care information.\n",
    "\n",
    "Let's assume we have the below FHIR Bundle ([Example 0](https://smarthealth.cards/examples/example-00-a-fhirBundle.json) at the time of writing). This FHIR Bundle could be produced in a number of ways, but for now let's imagine that the patient, John B. Anyperson, has just received his second COVID-19 vaccination shot and the healthcare worker entered his information into their system which produced the below in their system."
   ]
  },
  {
   "cell_type": "code",
   "execution_count": 1,
   "id": "useful-reset",
   "metadata": {},
   "outputs": [],
   "source": [
    "const fhirBundle = {\n",
    "  \"resourceType\": \"Bundle\",\n",
    "  \"type\": \"collection\",\n",
    "  \"entry\": [\n",
    "    {\n",
    "      \"fullUrl\": \"resource:0\",\n",
    "      \"resource\": {\n",
    "        \"resourceType\": \"Patient\",\n",
    "        \"name\": [\n",
    "          {\n",
    "            \"family\": \"Anyperson\",\n",
    "            \"given\": [\n",
    "              \"John\",\n",
    "              \"B.\"\n",
    "            ]\n",
    "          }\n",
    "        ],\n",
    "        \"birthDate\": \"1951-01-20\"\n",
    "      }\n",
    "    },\n",
    "    {\n",
    "      \"fullUrl\": \"resource:1\",\n",
    "      \"resource\": {\n",
    "        \"resourceType\": \"Immunization\",\n",
    "        \"status\": \"completed\",\n",
    "        \"vaccineCode\": {\n",
    "          \"coding\": [\n",
    "            {\n",
    "              \"system\": \"http://hl7.org/fhir/sid/cvx\",\n",
    "              \"code\": \"207\"\n",
    "            }\n",
    "          ]\n",
    "        },\n",
    "        \"patient\": {\n",
    "          \"reference\": \"resource:0\"\n",
    "        },\n",
    "        \"occurrenceDateTime\": \"2021-01-01\",\n",
    "        \"performer\": [\n",
    "          {\n",
    "            \"actor\": {\n",
    "              \"display\": \"ABC General Hospital\"\n",
    "            }\n",
    "          }\n",
    "        ],\n",
    "        \"lotNumber\": \"0000001\"\n",
    "      }\n",
    "    },\n",
    "    {\n",
    "      \"fullUrl\": \"resource:2\",\n",
    "      \"resource\": {\n",
    "        \"resourceType\": \"Immunization\",\n",
    "        \"status\": \"completed\",\n",
    "        \"vaccineCode\": {\n",
    "          \"coding\": [\n",
    "            {\n",
    "              \"system\": \"http://hl7.org/fhir/sid/cvx\",\n",
    "              \"code\": \"207\"\n",
    "            }\n",
    "          ]\n",
    "        },\n",
    "        \"patient\": {\n",
    "          \"reference\": \"resource:0\"\n",
    "        },\n",
    "        \"occurrenceDateTime\": \"2021-01-29\",\n",
    "        \"performer\": [\n",
    "          {\n",
    "            \"actor\": {\n",
    "              \"display\": \"ABC General Hospital\"\n",
    "            }\n",
    "          }\n",
    "        ],\n",
    "        \"lotNumber\": \"0000007\"\n",
    "      }\n",
    "    }\n",
    "  ]\n",
    "}"
   ]
  },
  {
   "cell_type": "markdown",
   "id": "found-murray",
   "metadata": {},
   "source": [
    "A couple things to note in the above JSON. This is a Bundle that contains 3 resources: one for the patient, one for the first vaccination, and another for the second vaccination. This Bundle conforms to the requirements laid out in [SMART Health Cards: Vaccination & Testing Implementation Guide](http://build.fhir.org/ig/dvci/vaccine-credential-ig/branches/main/) which defines what resources should be included in the Health Card. Specifically, this is an example of [Vaccine Credential Bundle - Data Minimization](http://build.fhir.org/ig/dvci/vaccine-credential-ig/branches/main/StructureDefinition-vaccine-credential-bundle-dm.html). We'll talk about what \"Data Minimization\" means in a second.\n",
    "\n",
    "Now let's create the \"Expanded Health Card\"."
   ]
  },
  {
   "cell_type": "markdown",
   "id": "excited-fraction",
   "metadata": {},
   "source": [
    "### Expanded Health Card\n",
    "\n",
    "The Expanded Health Card shows what the Health Card looks like before it is minified and serialized using the compact JWS serialization.\n",
    "\n",
    "[Health Cards are encoded as Compact Serialization JSON Web Signatures (JWS)](https://smarthealth.cards/#health-cards-are-encoded-as-compact-serialization-json-web-signatures-jws) and [Modeling W3C Verifiable Credentials in FHIR](https://smarthealth.cards/credential-modeling/) cover this in more detail.\n",
    "\n",
    "Before we get into the details it's important to note that some of the VC properties are mapped to standard JWT fields when using the [JWT encoding](https://w3c.github.io/vc-data-model/#jwt-encoding) (which we are). These include the `iss` and `nbf` fields.\n",
    "\n",
    "Below shows the expanded Health Card for the example:"
   ]
  },
  {
   "cell_type": "code",
   "execution_count": 2,
   "id": "fleet-cream",
   "metadata": {},
   "outputs": [],
   "source": [
    "const expandedHealthCard = {\n",
    "  \"iss\": \"https://smarthealth.cards/examples/issuer\",\n",
    "  \"nbf\": Date.now() / 1000,\n",
    "  \"vc\": {\n",
    "    \"@context\": [\n",
    "      \"https://www.w3.org/2018/credentials/v1\"\n",
    "    ],\n",
    "    \"type\": [\n",
    "      \"VerifiableCredential\",\n",
    "      \"https://smarthealth.cards#health-card\",\n",
    "      \"https://smarthealth.cards#immunization\",\n",
    "      \"https://smarthealth.cards#covid19\"\n",
    "    ],\n",
    "    \"credentialSubject\": {\n",
    "        \"fhirVersion\": \"4.0.1\",\n",
    "        \"fhirBundle\": fhirBundle\n",
    "    }\n",
    "  }\n",
    "}"
   ]
  },
  {
   "cell_type": "markdown",
   "id": "interpreted-estate",
   "metadata": {},
   "source": [
    "Let's talk about the three root fields:\n",
    "\n",
    "`iss` - This represents the [Issuer](https://w3c.github.io/vc-data-model/#issuer)\n",
    "  * Note this property is represented by `iss` according to the [JWT Encoding Rules](https://w3c.github.io/vc-data-model/#jwt-encoding)\n",
    "\n",
    "`nbf` - This represents the [IssuanceDate](https://w3c.github.io/vc-data-model/#issuance-date)\n",
    "  * Note this property is represented by `nbf`.\n",
    "\n",
    "`vc` - This represents the VC claim minus all the unmapped fields (`iss` and `nbf`)\n",
    "\n",
    "\n",
    "TODO: Fill out the rest of these properties"
   ]
  },
  {
   "cell_type": "markdown",
   "id": "related-cruise",
   "metadata": {},
   "source": [
    "### Health Cards are Small\n",
    "\n",
    "SMART Health Cards can be issued on pieces of paper via QR Codes. This introduces some unique size constraints in order to keep the number and size of QR codes manageable. When using and applying SMART Health Cards, it's important to keep them small.\n",
    "\n",
    "The SMART Health Card spec requires that [the JWS payload is minified and compressed](https://smarthealth.cards/#health-cards-are-small) in order to reduce payload size.\n",
    "\n",
    "SMART Health Cards are designed to be be atomic and shared as a whole. Information within the Health Card cannot be removed without affecting the verifiability of the Health Card. This imposes a privacy challenge when too much information is included in a single Health Card.\n",
    "\n",
    "The \"Data Minimization\" profiles in the IG are designed to address these size and privacy concerns by ensuring the FHIR profiles only require the minimal set of information to achieve the desired results.\n",
    "\n",
    "Below the JWS Payload (i.e. the \"Expanded Health Card\") is compressed according to the spec:"
   ]
  },
  {
   "cell_type": "code",
   "execution_count": 3,
   "id": "seasonal-begin",
   "metadata": {
    "scrolled": true
   },
   "outputs": [
    {
     "name": "stdout",
     "output_type": "stream",
     "text": [
      "{\"iss\":\"https://smarthealth.cards/examples/issuer\",\"nbf\":1644416073.642,\"vc\":{\"@context\":[\"https://www.w3.org/2018/credentials/v1\"],\"type\":[\"VerifiableCredential\",\"https://smarthealth.cards#health-card\",\"https://smarthealth.cards#immunization\",\"https://smarthealth.cards#covid19\"],\"credentialSubject\":{\"fhirVersion\":\"4.0.1\",\"fhirBundle\":{\"resourceType\":\"Bundle\",\"type\":\"collection\",\"entry\":[{\"fullUrl\":\"resource:0\",\"resource\":{\"resourceType\":\"Patient\",\"name\":[{\"family\":\"Anyperson\",\"given\":[\"John\",\"B.\"]}],\"birthDate\":\"1951-01-20\"}},{\"fullUrl\":\"resource:1\",\"resource\":{\"resourceType\":\"Immunization\",\"status\":\"completed\",\"vaccineCode\":{\"coding\":[{\"system\":\"http://hl7.org/fhir/sid/cvx\",\"code\":\"207\"}]},\"patient\":{\"reference\":\"resource:0\"},\"occurrenceDateTime\":\"2021-01-01\",\"performer\":[{\"actor\":{\"display\":\"ABC General Hospital\"}}],\"lotNumber\":\"0000001\"}},{\"fullUrl\":\"resource:2\",\"resource\":{\"resourceType\":\"Immunization\",\"status\":\"completed\",\"vaccineCode\":{\"coding\":[{\"system\":\"http://hl7.org/fhir/sid/cvx\",\"code\":\"207\"}]},\"patient\":{\"reference\":\"resource:0\"},\"occurrenceDateTime\":\"2021-01-29\",\"performer\":[{\"actor\":{\"display\":\"ABC General Hospital\"}}],\"lotNumber\":\"0000007\"}}]}}}}\n"
     ]
    }
   ],
   "source": [
    "// Remove the optional whitespace\n",
    "const noWhiteSpaceHealthCard = JSON.stringify(expandedHealthCard)\n",
    "console.log(noWhiteSpaceHealthCard)"
   ]
  },
  {
   "cell_type": "code",
   "execution_count": 4,
   "id": "divine-casino",
   "metadata": {},
   "outputs": [],
   "source": [
    "// Normally we'd remove some of the fhirBundle elements at \n",
    "// this step ( e.g. Resource.id, Resource.meta, CodebableConcept.text).\n",
    "// These are already missing from the original payload, so we'll skip that here\n",
    "\n",
    "// Compress the payload with DEFLATE, omitting any zlib headers\n",
    "\n",
    "const compressedPayload = zlib.deflateRawSync(noWhiteSpaceHealthCard)"
   ]
  },
  {
   "cell_type": "markdown",
   "id": "southwest-output",
   "metadata": {},
   "source": [
    "### Creating the Signed Health Card\n",
    "\n",
    "Now that we have the compressed payload we can sign it as a JWS. First, let's create the key pair for signing and verifying."
   ]
  },
  {
   "cell_type": "code",
   "execution_count": 5,
   "id": "wanted-mistress",
   "metadata": {},
   "outputs": [],
   "source": [
    "var jose = require('node-jose');\n",
    "\n",
    "const keystore = jose.JWK.createKeyStore()\n",
    "\n",
    "let signingKey;\n",
    "\n",
    "keystore.generate(\"EC\", \"P-256\").\n",
    "        then(function(result) {\n",
    "          // {result} is a jose.JWK.Key\n",
    "          signingKey = result;\n",
    "        });"
   ]
  },
  {
   "cell_type": "code",
   "execution_count": 6,
   "id": "characteristic-directory",
   "metadata": {},
   "outputs": [
    {
     "data": {
      "text/plain": [
       "{\n",
       "  keys: [\n",
       "    {\n",
       "      kty: 'EC',\n",
       "      kid: 'Sdui1T7WKlBNaErX0c6Cuu31KjV0g3pbxLFXvfP5mkQ',\n",
       "      crv: 'P-256',\n",
       "      x: 'jy9fOp8MgnrUMIvNx5g3I54EYJeOrKxAZFjITnJlBto',\n",
       "      y: 'Dpdk7YcJ1J0PGabanSYKpYL8fM84T-VJ9zmLdXvt3HA',\n",
       "      d: 'RM_lMfMw5qGR8mvCuyeDaFAXiAz53GgtDLFj2ZXO4tk'\n",
       "    }\n",
       "  ]\n",
       "}"
      ]
     },
     "execution_count": 6,
     "metadata": {},
     "output_type": "execute_result"
    }
   ],
   "source": [
    "// Print the entire key store, including the `d` member which contains the private key value\n",
    "// Remove true to just present the public key\n",
    "// See: https://tools.ietf.org/id/draft-jones-jose-json-private-and-symmetric-key-00.html#rfc.section.3.1.1\n",
    "keystore.toJSON(true);"
   ]
  },
  {
   "cell_type": "markdown",
   "id": "ordered-preserve",
   "metadata": {},
   "source": [
    "With a signing key in hand we can create the JWS:"
   ]
  },
  {
   "cell_type": "code",
   "execution_count": 7,
   "id": "fantastic-absorption",
   "metadata": {},
   "outputs": [
    {
     "name": "stdout",
     "output_type": "stream",
     "text": [
      "eyJ6aXAiOiJERUYiLCJhbGciOiJFUzI1NiIsImtpZCI6IlNkdWkxVDdXS2xCTmFFclgwYzZDdXUzMUtqVjBnM3BieExGWHZmUDVta1EifQ.3VJNj9MwEP0rq-HaJnG2bGlO0CLxcUBILFxQD64zbYwcO7KdtGWV_86M2y4g7fbECd_GfvPmved5AB0CVNDE2IUqz0MrfWxQmthkSvo65HiQbWcw5ATs0cME7GYLlbibzWbirpjfZnezcgKDguoBXitnIx4iVN8fKff7fba_zZzf5WUhXuXKY402amlCPghYTyAeO-SOb-j1VsuNwdUjhuY9q-3FqZhycRWn27a3-qeM2tmrQOUGXYsFi_ot80u_-YEqsr9toz2pDMxTwSwrMkF8fLvsbW2QMR6D673C--QKzg8Xl6CcMcR2UkID_JGsE3NvzFdvCHDprwoCXIoniD-THernD5Etnkhkqw3xwRtLGB_SjJ0e0HK8H13D9TKD9UgGN5rMv5WRucTipZgWYloWMI6TJ9WI62o-_B1xiDL2Idnl7YnIHzRIpbTFlasTg3K1trskPBxDxPa8h_QzjZmnheFk86DrXA0HIlCpE8piDuN6nEB3jiDJ2aJHy9r-TJBATqnepyc2e6_bE0WZDBdsi6LaOt_ScrMWqaLzTFnr0BmZ4lyubt6hRS_NzXsXOh1pMUcO0bj4qW833ApFOuLZBMv_MsFy8a8TnPPDSOcX.gKRKTEnu5mJfBdtjXpSAIc0kJ_3HpfAZAsxjrWh20XAGtPL1n5Jk2t4rN2KC_jOUFRbuFk_DTlQ82vlh6r18DQ\n"
     ]
    }
   ],
   "source": [
    "const fields = { zip: 'DEF' }\n",
    "\n",
    "let jws;\n",
    "\n",
    "jose.JWS.createSign({ format: 'compact', fields }, signingKey)\n",
    "    .update(Buffer.from(compressedPayload))\n",
    "    .final()\n",
    "    .then(function(result) {\n",
    "        jws = result;\n",
    "        console.log(jws)\n",
    "});"
   ]
  },
  {
   "cell_type": "markdown",
   "id": "pediatric-pressing",
   "metadata": {},
   "source": [
    "Now that we have the JWS we should check that we can actually verify the signature"
   ]
  },
  {
   "cell_type": "code",
   "execution_count": 8,
   "id": "difficult-packing",
   "metadata": {},
   "outputs": [
    {
     "name": "stdout",
     "output_type": "stream",
     "text": [
      "{\n",
      "  protected: [ 'zip', 'alg', 'kid' ],\n",
      "  header: {\n",
      "    zip: 'DEF',\n",
      "    alg: 'ES256',\n",
      "    kid: 'Sdui1T7WKlBNaErX0c6Cuu31KjV0g3pbxLFXvfP5mkQ'\n",
      "  },\n",
      "  payload: <Buffer dd 52 4d 8f d3 30 10 fd 2b ab e1 da 26 71 b6 6c 69 4e d0 22 f1 71 40 48 2c 5c 50 0f ae 33 6d 8c 1c 3b b2 9d b4 65 95 ff ce 8c db 2e 20 ed f6 c4 09 df ... 415 more bytes>,\n",
      "  signature: <Buffer 80 a4 4a 4c 49 ee e6 62 5f 05 db 63 5e 94 80 21 cd 24 27 fd c7 a5 f0 19 02 cc 63 ad 68 76 d1 70 06 b4 f2 f5 9f 92 64 da de 2b 37 62 82 fe 33 94 15 16 ... 14 more bytes>,\n",
      "  key: JWKBaseKeyObject {\n",
      "    keystore: JWKStore {},\n",
      "    length: 256,\n",
      "    kty: 'EC',\n",
      "    kid: 'Sdui1T7WKlBNaErX0c6Cuu31KjV0g3pbxLFXvfP5mkQ',\n",
      "    use: '',\n",
      "    alg: ''\n",
      "  }\n",
      "}\n"
     ]
    }
   ],
   "source": [
    "jose.JWS.createVerify(signingKey)\n",
    "    .verify(jws).then(function(result) {\n",
    "    console.log(result)\n",
    "})"
   ]
  },
  {
   "cell_type": "markdown",
   "id": "discrete-morrison",
   "metadata": {},
   "source": [
    "Let's also create a fake key and test with that to make sure we aren't getting a false positive"
   ]
  },
  {
   "cell_type": "code",
   "execution_count": 9,
   "id": "biological-consumer",
   "metadata": {},
   "outputs": [],
   "source": [
    "let fakeKey;\n",
    "\n",
    "keystore.generate(\"EC\", \"P-256\").\n",
    "        then(function(result) {\n",
    "          // {result} is a jose.JWK.Key\n",
    "          fakeKey = result;\n",
    "        });"
   ]
  },
  {
   "cell_type": "code",
   "execution_count": 10,
   "id": "modern-label",
   "metadata": {},
   "outputs": [
    {
     "ename": "Error",
     "evalue": "no key found",
     "output_type": "error",
     "traceback": [
      "Error: no key found",
      "    at processSig (/Users/smcdougall/vci/health-cards-walkthrough/node_modules/node-jose/lib/jws/verify.js:131:22)",
      "    at processTicksAndRejections (node:internal/process/task_queues:96:5)"
     ]
    }
   ],
   "source": [
    "// Note \"Error: no key found\" is the generic error message for keys that won't decrypt\n",
    "// See: https://github.com/cisco/node-jose/issues/262\n",
    "jose.JWS.createVerify(fakeKey)\n",
    "    .verify(jws).then(function(result) {\n",
    "    console.log(result)\n",
    "})"
   ]
  },
  {
   "cell_type": "markdown",
   "id": "surrounded-conditioning",
   "metadata": {},
   "source": [
    "### QR Code Generation\n",
    "\n",
    "Now that we have a JWS, we can turn that into a scannable QR Code. We do not need to worry about chunking just yet since the payload is below the 1195 character threshold in this example, but we will include the chunking code to show how the process works for larger examples.\n",
    "\n",
    "As part of our design, we want to keep the `errorCorrectionLevel` to be `'low'`. "
   ]
  },
  {
   "cell_type": "code",
   "execution_count": 11,
   "id": "c1e7ef6c",
   "metadata": {},
   "outputs": [],
   "source": [
    "const MAX_SINGLE_JWS_SIZE = 1195;\n",
    "const MAX_CHUNK_SIZE = 1191;\n",
    "const splitJwsIntoChunks = (jws) => {\n",
    "  if (jws.length <= MAX_SINGLE_JWS_SIZE) {\n",
    "    return [jws];\n",
    "  }\n",
    "\n",
    "  // Try to split the chunks into roughly equal sizes.\n",
    "  const chunkCount = Math.ceil(jws.length / MAX_CHUNK_SIZE);\n",
    "  const chunkSize = Math.ceil(jws.length / chunkCount);\n",
    "  const chunks = jws.match(new RegExp(`.{1,${chunkSize}}`, 'g'));\n",
    "  return chunks || [];\n",
    "}"
   ]
  },
  {
   "cell_type": "markdown",
   "id": "76e59888",
   "metadata": {},
   "source": [
    "When encoding chunks as QR codes, we let `N` represent the total number of chunks required, and `C` represent the index of the current chunk. These values are appended to the fixed string `shc:/` of the QR code's `bytes` data segment so that we know what chunk the QR code represents. For example, if we have `N=3` chunks and are working with the second chunk (`C = 2`), the `bytes` segment of the QR code will begin with `shc:/2/3/`.\n",
    "\n",
    "These chunking indices are omitted when `N = 1`, but we will include the code to show how the the segment is constructed for larger examples. In our example, the total number of chunks (`N`) is represented as `chunkCount` and the index of the current chunk (`C`) is represented as `jwsChunk`."
   ]
  },
  {
   "cell_type": "code",
   "execution_count": 13,
   "id": "presidential-turkey",
   "metadata": {},
   "outputs": [
    {
     "data": {
      "image/svg+xml": [
       "<svg xmlns=\"http://www.w3.org/2000/svg\" viewBox=\"0 0 97 97\" shape-rendering=\"crispEdges\"><path fill=\"#ffffff\" d=\"M0 0h97v97H0z\"/><path stroke=\"#000000\" d=\"M4 4.5h7m1 0h1m2 0h1m5 0h2m2 0h1m1 0h7m1 0h1m2 0h1m3 0h1m3 0h1m1 0h1m1 0h2m2 0h2m1 0h1m1 0h2m1 0h1m1 0h1m4 0h1m1 0h2m4 0h1m1 0h1m2 0h3m1 0h7M4 5.5h1m5 0h1m3 0h4m1 0h2m1 0h2m1 0h1m2 0h1m1 0h1m2 0h1m2 0h2m1 0h3m2 0h3m1 0h1m1 0h1m1 0h4m3 0h2m1 0h1m3 0h4m3 0h1m3 0h1m2 0h2m1 0h1m2 0h1m5 0h1M4 6.5h1m1 0h3m1 0h1m2 0h4m2 0h4m4 0h1m2 0h2m2 0h1m5 0h4m3 0h2m3 0h1m3 0h3m2 0h6m1 0h1m1 0h4m2 0h1m1 0h2m1 0h1m4 0h1m1 0h3m1 0h1M4 7.5h1m1 0h3m1 0h1m2 0h11m1 0h3m3 0h2m2 0h1m3 0h2m1 0h3m2 0h3m2 0h3m1 0h5m2 0h3m6 0h1m1 0h1m3 0h2m1 0h2m1 0h1m1 0h1m1 0h3m1 0h1M4 8.5h1m1 0h3m1 0h1m2 0h1m2 0h1m2 0h1m2 0h2m1 0h4m1 0h1m1 0h5m1 0h1m1 0h1m2 0h2m1 0h1m2 0h1m1 0h6m1 0h7m1 0h1m1 0h1m2 0h1m1 0h2m1 0h1m3 0h1m2 0h1m2 0h1m1 0h3m1 0h1M4 9.5h1m5 0h1m3 0h3m1 0h1m1 0h4m1 0h2m1 0h1m1 0h1m1 0h1m3 0h1m1 0h2m1 0h1m1 0h1m1 0h3m1 0h2m2 0h1m1 0h1m1 0h2m3 0h5m1 0h4m1 0h1m3 0h2m1 0h2m1 0h1m2 0h1m5 0h1M4 10.5h7m1 0h1m1 0h1m1 0h1m1 0h1m1 0h1m1 0h1m1 0h1m1 0h1m1 0h1m1 0h1m1 0h1m1 0h1m1 0h1m1 0h1m1 0h1m1 0h1m1 0h1m1 0h1m1 0h1m1 0h1m1 0h1m1 0h1m1 0h1m1 0h1m1 0h1m1 0h1m1 0h1m1 0h1m1 0h1m1 0h1m1 0h1m1 0h1m1 0h1m1 0h1m1 0h1m1 0h1m1 0h1m1 0h7M12 11.5h1m1 0h3m3 0h1m1 0h1m1 0h3m4 0h2m3 0h3m5 0h4m1 0h2m2 0h1m1 0h1m1 0h2m3 0h2m2 0h1m1 0h1m2 0h2m2 0h6m2 0h2M4 12.5h2m1 0h2m1 0h1m2 0h3m1 0h2m2 0h2m2 0h2m1 0h2m2 0h7m3 0h3m3 0h3m3 0h2m1 0h13m1 0h1m3 0h1m1 0h3m1 0h1m1 0h1m2 0h1m5 0h1M9 13.5h1m2 0h1m1 0h1m2 0h1m5 0h1m2 0h2m2 0h1m2 0h1m2 0h1m1 0h1m1 0h1m3 0h2m4 0h2m3 0h1m1 0h1m4 0h1m4 0h8m1 0h1m1 0h1m1 0h2m1 0h1m2 0h2m2 0h3M6 14.5h1m1 0h1m1 0h3m1 0h2m1 0h1m1 0h1m3 0h1m1 0h1m2 0h1m6 0h1m2 0h1m1 0h2m1 0h6m4 0h1m2 0h1m2 0h1m1 0h1m2 0h1m1 0h1m4 0h3m2 0h2m2 0h1m2 0h3m2 0h1m1 0h2M4 15.5h5m3 0h2m1 0h2m2 0h2m2 0h2m10 0h1m1 0h1m1 0h1m1 0h1m2 0h2m2 0h1m1 0h2m3 0h1m1 0h3m1 0h3m5 0h3m1 0h6m1 0h1m1 0h1m2 0h6m1 0h1M4 16.5h2m1 0h1m1 0h4m1 0h4m1 0h1m3 0h1m1 0h1m3 0h1m2 0h2m1 0h6m3 0h3m3 0h2m2 0h5m1 0h1m1 0h3m2 0h4m1 0h1m3 0h1m1 0h2m1 0h2m2 0h1m5 0h2M4 17.5h3m2 0h1m2 0h2m3 0h4m6 0h5m5 0h2m2 0h1m2 0h6m1 0h2m1 0h2m5 0h2m3 0h1m6 0h5m2 0h1m2 0h3m1 0h1m1 0h1m2 0h1M4 18.5h2m1 0h1m1 0h2m1 0h1m4 0h1m1 0h1m1 0h1m2 0h1m2 0h1m1 0h3m2 0h5m1 0h1m1 0h2m2 0h2m1 0h3m1 0h1m2 0h1m4 0h1m2 0h1m2 0h2m1 0h2m1 0h1m1 0h1m1 0h2m2 0h2m1 0h3m1 0h1m1 0h1m1 0h1M4 19.5h3m1 0h2m1 0h3m4 0h1m1 0h3m1 0h3m1 0h1m1 0h4m1 0h1m1 0h1m2 0h3m3 0h1m3 0h1m1 0h1m1 0h3m1 0h1m1 0h4m4 0h1m1 0h1m6 0h3m1 0h1m3 0h1m5 0h1M4 20.5h1m2 0h2m1 0h2m1 0h2m2 0h1m2 0h1m1 0h1m1 0h1m2 0h4m1 0h2m1 0h2m5 0h3m4 0h1m2 0h1m2 0h2m4 0h5m1 0h2m1 0h4m1 0h2m2 0h1m2 0h1m1 0h8M4 21.5h2m7 0h1m1 0h1m1 0h8m1 0h3m2 0h1m2 0h1m1 0h1m2 0h3m2 0h1m1 0h1m3 0h1m1 0h3m1 0h3m3 0h3m7 0h4m5 0h1m1 0h4m2 0h1m1 0h2M4 22.5h2m3 0h3m1 0h2m6 0h1m1 0h1m1 0h2m1 0h2m1 0h5m5 0h6m3 0h1m1 0h1m1 0h6m1 0h3m2 0h2m2 0h1m2 0h1m2 0h1m2 0h1m1 0h1m1 0h2m1 0h4m1 0h2M5 23.5h2m1 0h2m1 0h1m2 0h1m1 0h1m3 0h1m2 0h1m1 0h2m2 0h2m1 0h3m3 0h4m1 0h2m1 0h1m1 0h1m1 0h1m3 0h1m1 0h1m1 0h2m4 0h1m5 0h2m3 0h3m3 0h7m1 0h3M5 24.5h3m2 0h1m2 0h1m1 0h3m5 0h4m1 0h4m2 0h3m3 0h2m1 0h3m1 0h3m1 0h4m1 0h2m2 0h6m2 0h2m1 0h1m1 0h1m1 0h4m2 0h2m3 0h2m1 0h2m1 0h1M7 25.5h1m3 0h1m1 0h1m1 0h2m1 0h2m1 0h1m4 0h1m2 0h2m1 0h5m1 0h5m3 0h3m2 0h1m3 0h1m1 0h2m1 0h1m1 0h1m1 0h1m1 0h1m1 0h2m2 0h3m3 0h1m1 0h2m1 0h1m1 0h5m2 0h1M4 26.5h1m3 0h4m1 0h1m3 0h3m1 0h1m1 0h1m1 0h1m1 0h2m4 0h1m3 0h1m1 0h2m4 0h2m2 0h1m3 0h1m1 0h4m1 0h2m2 0h1m1 0h1m2 0h1m3 0h1m1 0h1m1 0h1m3 0h4m5 0h1m1 0h1M4 27.5h2m1 0h3m2 0h3m1 0h1m1 0h2m2 0h1m1 0h4m2 0h2m1 0h1m1 0h1m2 0h1m1 0h1m1 0h5m1 0h1m2 0h2m2 0h2m2 0h2m3 0h2m1 0h2m6 0h2m3 0h3m1 0h3m4 0h1M7 28.5h4m1 0h2m1 0h1m3 0h1m3 0h3m8 0h1m1 0h2m6 0h4m1 0h2m2 0h2m3 0h2m1 0h1m5 0h2m1 0h2m1 0h1m1 0h4m3 0h1m1 0h1m2 0h1m2 0h2M6 29.5h2m1 0h1m1 0h2m2 0h2m6 0h1m1 0h1m1 0h2m1 0h1m2 0h2m1 0h2m1 0h3m1 0h2m1 0h3m1 0h1m2 0h3m1 0h1m5 0h3m1 0h1m4 0h2m2 0h4m2 0h2m1 0h1m1 0h1m1 0h1m1 0h1M4 30.5h1m2 0h1m1 0h4m2 0h3m5 0h1m1 0h1m2 0h2m1 0h5m2 0h7m2 0h1m1 0h2m1 0h2m1 0h1m1 0h2m3 0h8m3 0h1m2 0h1m2 0h1m1 0h2m1 0h1m2 0h1m1 0h1M9 31.5h1m2 0h3m1 0h3m3 0h1m1 0h1m1 0h1m2 0h1m8 0h1m7 0h1m4 0h1m2 0h1m2 0h3m1 0h1m5 0h1m2 0h1m1 0h2m2 0h3m1 0h5m2 0h5M5 32.5h1m1 0h6m4 0h4m4 0h4m1 0h1m1 0h5m3 0h1m4 0h1m1 0h1m2 0h1m2 0h2m2 0h8m1 0h2m1 0h2m2 0h4m1 0h5m1 0h5M4 33.5h2m1 0h2m3 0h2m3 0h3m2 0h2m2 0h2m1 0h1m1 0h2m3 0h1m1 0h1m1 0h2m3 0h3m1 0h2m2 0h6m3 0h2m1 0h1m2 0h1m7 0h1m1 0h2m4 0h1m3 0h2m1 0h2M5 34.5h1m1 0h2m1 0h1m1 0h3m2 0h1m1 0h1m1 0h2m4 0h2m1 0h3m1 0h1m1 0h1m1 0h2m2 0h1m1 0h1m1 0h2m1 0h2m1 0h1m1 0h1m3 0h1m1 0h1m1 0h5m1 0h2m2 0h1m1 0h2m2 0h1m1 0h1m1 0h1m1 0h1m1 0h1m1 0h1m1 0h1m1 0h1M5 35.5h4m3 0h1m1 0h1m2 0h1m1 0h3m4 0h2m1 0h4m3 0h4m1 0h1m2 0h1m1 0h1m2 0h1m2 0h3m3 0h1m3 0h1m2 0h2m4 0h2m2 0h2m1 0h1m1 0h1m1 0h3m3 0h1m1 0h2M4 36.5h2m2 0h9m1 0h2m1 0h4m5 0h1m1 0h5m1 0h2m2 0h3m1 0h1m1 0h6m4 0h5m1 0h2m1 0h2m4 0h3m1 0h1m2 0h3m1 0h6m1 0h2M9 37.5h1m3 0h1m3 0h1m3 0h1m5 0h1m2 0h1m1 0h2m1 0h1m4 0h2m2 0h1m3 0h2m1 0h2m2 0h3m1 0h1m1 0h8m3 0h2m2 0h1m2 0h4m2 0h4m1 0h1m1 0h1M5 38.5h1m1 0h1m2 0h1m2 0h2m3 0h2m2 0h1m1 0h1m1 0h5m1 0h1m1 0h1m2 0h1m1 0h1m1 0h1m2 0h2m1 0h2m1 0h2m2 0h1m1 0h1m1 0h3m3 0h2m2 0h3m2 0h2m1 0h1m2 0h2m2 0h1m1 0h2m1 0h1m1 0h3M5 39.5h1m7 0h2m2 0h4m1 0h5m1 0h3m1 0h2m2 0h1m1 0h2m1 0h1m2 0h1m1 0h1m1 0h1m3 0h1m1 0h3m1 0h3m1 0h5m1 0h1m1 0h2m4 0h1m3 0h1m1 0h1m4 0h1m2 0h1m1 0h1M6 40.5h1m1 0h1m1 0h1m2 0h1m1 0h2m1 0h3m3 0h4m2 0h1m1 0h1m1 0h1m1 0h1m1 0h8m2 0h3m1 0h1m5 0h1m1 0h2m1 0h1m1 0h1m1 0h1m4 0h2m1 0h1m2 0h4m5 0h2m1 0h2M5 41.5h1m1 0h1m4 0h1m1 0h3m1 0h6m1 0h5m2 0h1m2 0h1m1 0h3m1 0h1m1 0h1m2 0h2m5 0h1m2 0h1m1 0h3m1 0h2m1 0h1m1 0h2m1 0h2m3 0h1m1 0h1m1 0h1m1 0h4m3 0h1m2 0h2M4 42.5h1m1 0h2m1 0h2m1 0h2m1 0h3m1 0h1m1 0h1m3 0h2m2 0h1m2 0h2m4 0h4m1 0h1m1 0h1m1 0h3m3 0h1m1 0h1m4 0h3m2 0h1m1 0h4m1 0h2m1 0h2m1 0h2m1 0h1m1 0h1m2 0h5m1 0h1M5 43.5h2m1 0h1m2 0h2m1 0h1m1 0h1m2 0h1m3 0h1m1 0h1m2 0h3m3 0h1m3 0h1m4 0h1m2 0h2m2 0h3m4 0h1m2 0h3m1 0h4m3 0h1m1 0h2m2 0h2m1 0h1m1 0h2m7 0h2M8 44.5h1m1 0h1m3 0h1m4 0h4m1 0h1m1 0h1m1 0h2m4 0h1m2 0h1m1 0h2m4 0h3m3 0h1m1 0h1m1 0h2m2 0h1m4 0h3m1 0h1m1 0h2m2 0h1m2 0h3m3 0h2m3 0h1M4 45.5h3m1 0h1m3 0h3m1 0h5m1 0h2m4 0h1m1 0h1m1 0h4m1 0h2m5 0h4m3 0h1m1 0h3m1 0h3m2 0h1m1 0h1m2 0h2m4 0h3m3 0h2m1 0h4m1 0h1m2 0h1M5 46.5h2m2 0h2m7 0h2m1 0h3m2 0h2m1 0h2m1 0h5m1 0h2m4 0h2m1 0h3m1 0h1m1 0h5m2 0h3m1 0h3m2 0h2m2 0h3m1 0h1m1 0h3m6 0h3M4 47.5h1m1 0h1m1 0h1m3 0h2m1 0h1m2 0h1m1 0h1m4 0h1m2 0h3m2 0h1m2 0h3m1 0h3m2 0h1m1 0h2m1 0h2m1 0h2m1 0h1m2 0h1m1 0h2m1 0h1m1 0h1m3 0h1m2 0h4m1 0h2m1 0h1m2 0h8M4 48.5h3m3 0h3m3 0h1m3 0h3m1 0h1m4 0h1m2 0h4m2 0h2m1 0h1m2 0h1m2 0h1m1 0h1m2 0h1m1 0h7m4 0h1m1 0h5m1 0h1m1 0h4m3 0h4m1 0h2m3 0h1M11 49.5h3m2 0h1m2 0h2m1 0h1m4 0h6m1 0h1m1 0h1m1 0h1m2 0h2m2 0h4m1 0h1m1 0h1m2 0h2m5 0h1m1 0h1m1 0h1m3 0h3m3 0h1m2 0h1m1 0h1m1 0h1m2 0h1m4 0h1M6 50.5h1m1 0h1m1 0h1m1 0h3m1 0h3m10 0h4m2 0h2m1 0h1m3 0h2m2 0h6m1 0h1m3 0h1m2 0h3m1 0h1m2 0h2m5 0h1m4 0h1m3 0h4m1 0h5M4 51.5h3m4 0h1m3 0h3m1 0h7m2 0h1m1 0h3m2 0h1m1 0h2m3 0h1m3 0h2m8 0h5m3 0h6m5 0h2m1 0h1m1 0h1m1 0h3m1 0h3m1 0h1m1 0h1M4 52.5h3m1 0h1m1 0h1m2 0h2m2 0h1m6 0h2m2 0h6m1 0h4m5 0h2m1 0h1m3 0h1m5 0h1m1 0h1m2 0h1m3 0h1m1 0h1m2 0h2m1 0h1m1 0h1m3 0h4m2 0h1m4 0h2M6 53.5h1m4 0h6m1 0h3m1 0h2m2 0h4m1 0h1m1 0h1m3 0h1m1 0h1m1 0h1m1 0h3m2 0h1m1 0h1m2 0h2m1 0h2m2 0h2m1 0h1m1 0h1m1 0h1m2 0h1m3 0h7m2 0h1m2 0h7M7 54.5h1m1 0h2m1 0h1m1 0h3m1 0h1m3 0h1m4 0h1m1 0h1m2 0h1m1 0h2m1 0h1m3 0h9m3 0h2m1 0h1m3 0h2m2 0h3m1 0h1m2 0h1m1 0h1m1 0h4m1 0h2m1 0h1m1 0h2m1 0h1m1 0h1m1 0h1M4 55.5h1m3 0h2m1 0h2m1 0h1m1 0h1m3 0h1m1 0h1m2 0h1m3 0h2m1 0h1m2 0h3m1 0h1m2 0h1m1 0h1m2 0h1m4 0h1m1 0h1m1 0h1m1 0h2m5 0h1m1 0h4m1 0h2m1 0h1m1 0h1m2 0h1m1 0h2m1 0h3m2 0h2M4 56.5h2m3 0h2m1 0h3m3 0h1m2 0h1m2 0h1m5 0h1m1 0h1m1 0h1m1 0h4m2 0h4m2 0h4m1 0h1m1 0h1m2 0h1m3 0h2m2 0h5m1 0h1m1 0h1m1 0h1m2 0h1m1 0h1m1 0h5m1 0h1m1 0h1M4 57.5h2m1 0h1m1 0h1m3 0h1m2 0h1m2 0h1m4 0h1m2 0h3m2 0h2m1 0h3m2 0h1m3 0h1m2 0h1m2 0h4m4 0h2m2 0h1m1 0h1m2 0h2m2 0h2m1 0h1m1 0h1m2 0h2m1 0h1m1 0h3m1 0h2m1 0h2M4 58.5h1m1 0h1m1 0h6m6 0h1m1 0h5m1 0h1m2 0h8m4 0h1m4 0h1m3 0h3m1 0h1m1 0h5m2 0h7m2 0h1m1 0h1m2 0h3m2 0h6m2 0h1M6 59.5h3m3 0h1m2 0h1m1 0h1m3 0h1m1 0h2m1 0h1m3 0h3m3 0h1m2 0h1m3 0h2m1 0h3m3 0h5m1 0h1m3 0h1m1 0h1m4 0h4m3 0h3m2 0h4m3 0h1m2 0h2M4 60.5h1m1 0h1m1 0h1m1 0h1m1 0h1m1 0h2m1 0h1m2 0h1m2 0h1m1 0h3m1 0h2m1 0h1m1 0h1m1 0h1m2 0h1m1 0h1m1 0h1m1 0h1m3 0h2m1 0h2m4 0h1m1 0h1m1 0h1m5 0h1m2 0h2m1 0h2m6 0h1m1 0h1m1 0h1m1 0h2M4 61.5h5m3 0h2m2 0h4m1 0h1m2 0h2m1 0h2m1 0h1m1 0h1m3 0h1m2 0h1m1 0h1m2 0h5m2 0h1m3 0h1m2 0h1m3 0h1m1 0h1m1 0h3m1 0h1m2 0h1m2 0h3m4 0h2m3 0h4M5 62.5h1m1 0h8m4 0h2m1 0h3m2 0h2m1 0h7m4 0h1m1 0h1m3 0h2m1 0h1m2 0h3m1 0h6m1 0h1m1 0h1m2 0h2m3 0h1m1 0h3m2 0h1m1 0h6m1 0h1m1 0h1M6 63.5h1m1 0h2m1 0h1m1 0h1m1 0h1m1 0h7m1 0h1m5 0h5m1 0h1m2 0h1m3 0h2m1 0h5m1 0h3m4 0h2m1 0h1m1 0h2m1 0h1m1 0h1m5 0h1m2 0h1m2 0h1m2 0h1m2 0h1m1 0h1M6 64.5h2m1 0h2m2 0h1m2 0h2m2 0h2m3 0h1m1 0h1m1 0h1m4 0h2m1 0h2m2 0h2m2 0h1m6 0h1m2 0h1m1 0h2m2 0h3m2 0h2m6 0h2m1 0h4m1 0h1m3 0h3m1 0h2M4 65.5h1m2 0h1m1 0h1m2 0h5m2 0h2m1 0h1m1 0h1m2 0h1m1 0h4m3 0h1m1 0h7m2 0h2m1 0h4m2 0h1m2 0h2m1 0h1m3 0h1m1 0h1m1 0h1m1 0h3m1 0h4m2 0h1m2 0h1m1 0h2M4 66.5h1m1 0h1m1 0h4m1 0h1m2 0h1m1 0h1m1 0h1m1 0h2m4 0h1m1 0h2m1 0h1m1 0h3m3 0h1m1 0h1m1 0h1m2 0h2m1 0h1m1 0h2m1 0h1m1 0h1m5 0h2m5 0h4m1 0h3m6 0h4m1 0h3M8 67.5h2m3 0h1m1 0h4m1 0h1m2 0h1m1 0h1m1 0h2m1 0h13m3 0h3m3 0h2m1 0h2m1 0h5m1 0h2m1 0h1m1 0h1m2 0h9m5 0h3m3 0h1M5 68.5h1m2 0h3m2 0h1m2 0h1m1 0h1m1 0h2m2 0h1m1 0h3m1 0h1m2 0h4m3 0h1m1 0h3m2 0h3m1 0h1m2 0h1m2 0h2m1 0h2m2 0h1m1 0h1m1 0h5m2 0h2m1 0h3m1 0h2m1 0h7M7 69.5h1m4 0h2m2 0h1m2 0h2m1 0h1m2 0h1m1 0h1m4 0h1m1 0h1m1 0h3m1 0h2m2 0h2m9 0h1m2 0h1m2 0h2m1 0h3m1 0h1m3 0h2m1 0h1m1 0h3m3 0h4m2 0h4M5 70.5h1m2 0h1m1 0h2m1 0h2m2 0h1m1 0h2m1 0h1m1 0h1m1 0h1m3 0h1m1 0h1m1 0h2m1 0h1m2 0h2m1 0h2m1 0h1m1 0h2m1 0h1m2 0h1m2 0h5m2 0h1m4 0h2m1 0h1m1 0h2m4 0h1m1 0h1m2 0h3m1 0h2M5 71.5h1m2 0h1m2 0h3m1 0h1m1 0h2m2 0h1m2 0h2m1 0h1m1 0h2m1 0h1m3 0h2m1 0h2m1 0h6m1 0h3m1 0h1m2 0h1m1 0h1m2 0h1m2 0h4m2 0h2m1 0h1m2 0h2m2 0h1m2 0h1m1 0h4m2 0h1M7 72.5h1m1 0h4m1 0h1m1 0h2m1 0h1m1 0h4m1 0h1m1 0h3m1 0h4m2 0h1m1 0h1m6 0h1m1 0h1m5 0h1m2 0h1m1 0h4m3 0h5m2 0h1m2 0h1m1 0h1m3 0h1m1 0h2m1 0h1m1 0h3M4 73.5h1m1 0h1m2 0h1m3 0h5m2 0h3m1 0h1m1 0h1m4 0h1m2 0h1m1 0h5m3 0h1m4 0h7m1 0h2m2 0h3m1 0h1m2 0h2m1 0h1m2 0h1m3 0h5m2 0h3m1 0h1M5 74.5h4m1 0h2m1 0h1m1 0h1m1 0h1m2 0h1m1 0h1m3 0h4m2 0h1m1 0h1m1 0h1m1 0h3m3 0h1m2 0h4m1 0h1m2 0h1m1 0h1m1 0h1m3 0h4m1 0h1m1 0h1m1 0h3m2 0h4m1 0h1m2 0h1M4 75.5h2m1 0h2m3 0h1m1 0h3m1 0h1m5 0h1m2 0h2m1 0h3m1 0h4m3 0h1m1 0h3m1 0h1m1 0h3m2 0h1m2 0h2m2 0h1m2 0h1m3 0h3m1 0h3m1 0h1m2 0h2m4 0h1m1 0h1m1 0h1M5 76.5h1m3 0h3m1 0h3m1 0h3m1 0h4m2 0h1m3 0h2m1 0h2m1 0h1m1 0h1m1 0h4m1 0h2m1 0h2m2 0h1m1 0h1m1 0h1m2 0h5m2 0h1m3 0h1m2 0h1m7 0h1m5 0h3m1 0h1M6 77.5h1m7 0h1m1 0h1m2 0h3m7 0h2m2 0h2m2 0h1m1 0h3m1 0h1m1 0h5m2 0h1m1 0h2m1 0h2m1 0h2m2 0h1m1 0h4m1 0h1m4 0h6m3 0h1m2 0h2m1 0h2M5 78.5h1m2 0h3m1 0h3m1 0h1m3 0h1m2 0h4m1 0h5m1 0h2m4 0h1m3 0h2m3 0h1m1 0h1m1 0h6m2 0h1m5 0h2m1 0h1m1 0h1m1 0h7m1 0h3m2 0h1m1 0h3M6 79.5h1m1 0h2m1 0h1m5 0h2m3 0h1m1 0h1m1 0h6m1 0h2m1 0h1m1 0h3m1 0h1m4 0h2m1 0h1m1 0h3m2 0h1m3 0h2m3 0h1m2 0h1m13 0h5m2 0h2M4 80.5h1m1 0h5m1 0h1m1 0h2m6 0h1m2 0h3m1 0h1m3 0h3m3 0h1m6 0h1m2 0h4m2 0h1m1 0h1m5 0h2m1 0h1m1 0h2m5 0h1m1 0h4m4 0h1m1 0h2m2 0h2M4 81.5h1m1 0h2m7 0h2m1 0h1m1 0h1m2 0h1m2 0h1m4 0h1m2 0h1m1 0h1m1 0h3m2 0h2m2 0h1m1 0h2m3 0h1m1 0h1m2 0h4m2 0h1m1 0h1m1 0h1m1 0h1m7 0h5m1 0h3m1 0h1M4 82.5h1m2 0h1m2 0h1m1 0h1m2 0h2m2 0h1m1 0h2m5 0h9m1 0h1m1 0h1m4 0h1m8 0h1m2 0h6m2 0h2m2 0h1m2 0h1m1 0h1m1 0h1m1 0h1m3 0h5m1 0h1m3 0h1M4 83.5h2m2 0h2m1 0h2m2 0h2m3 0h1m1 0h1m1 0h1m3 0h3m2 0h2m1 0h2m1 0h2m2 0h2m1 0h1m7 0h2m2 0h3m2 0h1m1 0h4m3 0h2m4 0h1m1 0h2m1 0h2m7 0h1M4 84.5h1m2 0h1m2 0h1m1 0h4m2 0h3m1 0h1m1 0h1m4 0h1m1 0h6m1 0h1m5 0h2m1 0h2m2 0h3m1 0h1m2 0h6m3 0h1m2 0h1m1 0h6m1 0h2m1 0h1m1 0h5m2 0h2M12 85.5h2m7 0h5m3 0h1m2 0h1m3 0h1m2 0h1m10 0h1m1 0h2m4 0h1m3 0h1m1 0h1m5 0h1m1 0h1m1 0h3m1 0h1m2 0h1m1 0h2m3 0h3m1 0h1M4 86.5h7m2 0h2m3 0h1m1 0h3m4 0h6m1 0h1m1 0h4m1 0h1m3 0h1m4 0h1m4 0h2m1 0h1m1 0h1m1 0h1m7 0h1m1 0h5m1 0h1m1 0h1m1 0h1m1 0h1m1 0h1m1 0h2m2 0h1M4 87.5h1m5 0h1m3 0h2m1 0h4m1 0h1m3 0h7m3 0h8m2 0h2m1 0h1m1 0h2m1 0h1m1 0h3m3 0h3m1 0h2m2 0h1m3 0h5m4 0h2m3 0h2m1 0h1M4 88.5h1m1 0h3m1 0h1m1 0h1m1 0h1m1 0h1m1 0h1m1 0h1m1 0h6m2 0h1m1 0h10m1 0h6m2 0h1m2 0h1m1 0h1m1 0h5m5 0h1m2 0h1m3 0h4m1 0h11m1 0h1M4 89.5h1m1 0h3m1 0h1m1 0h1m3 0h2m1 0h3m1 0h1m1 0h1m1 0h3m3 0h1m1 0h1m2 0h3m2 0h1m3 0h1m5 0h1m2 0h5m1 0h1m1 0h1m1 0h1m3 0h3m6 0h6m1 0h1m2 0h1M4 90.5h1m1 0h3m1 0h1m3 0h4m1 0h1m1 0h1m3 0h1m1 0h3m2 0h1m1 0h3m4 0h1m1 0h1m2 0h3m1 0h2m5 0h1m2 0h2m2 0h1m6 0h2m1 0h1m3 0h1m1 0h2m1 0h2m2 0h2m2 0h2M4 91.5h1m5 0h1m1 0h3m1 0h2m1 0h1m2 0h3m3 0h1m1 0h1m1 0h2m1 0h2m1 0h5m1 0h1m1 0h1m1 0h1m3 0h1m3 0h1m2 0h1m1 0h1m1 0h1m2 0h3m1 0h1m1 0h1m1 0h1m1 0h5m2 0h1m2 0h2m1 0h2m1 0h1M4 92.5h7m1 0h6m3 0h2m3 0h1m1 0h4m1 0h1m1 0h1m1 0h1m1 0h1m2 0h6m2 0h3m2 0h7m1 0h1m6 0h1m1 0h1m1 0h1m2 0h2m1 0h1m1 0h3m2 0h1\"/></svg>\n"
      ]
     },
     "execution_count": 12,
     "metadata": {},
     "output_type": "execute_result"
    }
   ],
   "source": [
    "// Create array of chunks to convert into numeric mode QRs\n",
    "var QRCode = require('qrcode')\n",
    "const jwsChunks = splitJwsIntoChunks(jws);\n",
    "\n",
    "// Save data from all generated QR Codes for future comparison with scanned QR Codes\n",
    "let qrCodesData = [];\n",
    "\n",
    "const obtainQRCodeData = async() => {\n",
    "    const qrPromises = jwsChunks.map(async (jwsChunk, i) => {\n",
    "        // This code snippet was adapted/taken from https://github.com/smart-on-fhir/health-cards/blob/152a4f83b223b5fd14027f765e957e290649f2c0/generate-examples/src/index.ts#L173\n",
    "        const numericJWS = jwsChunk.split('')\n",
    "            .map((c) => c.charCodeAt(0) - 45)\n",
    "            .flatMap((c) => [Math.floor(c / 10), c % 10]) //Need to maintain leading zeros\n",
    "            .join('')\n",
    "\n",
    "        const segments = [\n",
    "        // Add index of current chunk if there is more than one chunk\n",
    "        // See https://spec.smarthealth.cards/#encoding-chunks-as-qr-codes for more information\n",
    "        {data: 'shc:/' + ((jwsChunks.length > 1) ? `${jwsChunk + 1}/${chunkCount}/` : ``), mode: 'byte'},\n",
    "        {data: numericJWS, mode: 'numeric'}\n",
    "        ]\n",
    "\n",
    "        let qrSVG\n",
    "        // QR code version will default to smallest possible version\n",
    "        await QRCode.toString(segments,{type: 'svg', errorCorrectionLevel: 'low'}).then(function(result){\n",
    "            qrSVG = result\n",
    "            $$.svg(qrSVG)\n",
    "        });\n",
    "        // Also print as PNG for scanning later on.\n",
    "        QRCode.toFile(`./js_qrcode${i}.png`, segments, {width: 800})\n",
    "        \n",
    "        const qrCode = segments[0].data + segments[1].data\n",
    "        return qrCode;\n",
    "    });\n",
    "    return await Promise.all(qrPromises);\n",
    "}\n",
    "\n",
    "obtainQRCodeData().then(results => {\n",
    "    results.forEach(result => {\n",
    "        qrCodesData.push(result);\n",
    "    })\n",
    "})"
   ]
  },
  {
   "cell_type": "code",
   "execution_count": 13,
   "id": "5eaeb5fd",
   "metadata": {},
   "outputs": [
    {
     "name": "stdout",
     "output_type": "stream",
     "text": [
      "[\n",
      "  'shc:/56762909524320603460292437404460312229595326546034602925407728043360287028647167452228092863336255426275412355433805752239642525546358744477452355434077324071684161216532062160562475264227456440234171520424605736010641293361123274243503696800275229652605532663340322317554402128312575362309077753447454341030557126424150110932057607581057532422555026577335647356550820210322413323240528406877033269574275366471596238736609082760365342547408203970035432241026443163536053774253606967615745655677545830235872662143607165287507604133115730575710575352507745775708424059437243304407030552646322355859443976205634003834530061044170723374554061597244126800062568455976543742650510520600685632057164693634402643447025605066711103725000442468706912716677056723327539743874693262251157317370534205363237092309100622000036307758114363092254325437054062282350292670240633737725557322272367697466224328666560230039275669652308247165625962687406757437713126215038612903560327301127040623123930231240582633086932730842377254396067455842446366423228093929124228090566005021047560233105285565631044652827773728675339256352703958063004716970623521752375355211595036776145646559562562110923694320032728632267241167602372330965242106616023290552292776126900392921203968655667765405560950532403424523215570600931523471503854693242685231773925656903216445076376725371095937385033774370433459046732405434035361076842110606206725347231452132735032702576115211396535352338345443015830373039246572086429572155716143673820285403622950062767572045207075616942590503432026713531046508296205710769330530225061344025375372256250233963361105736359096904112336'\n",
      "]\n"
     ]
    }
   ],
   "source": [
    "console.log(qrCodesData)"
   ]
  },
  {
   "cell_type": "markdown",
   "id": "undefined-telephone",
   "metadata": {},
   "source": [
    "The above shows what the value of the QR code will be, with the leading `byte` segment and the `numeric` segment following."
   ]
  },
  {
   "cell_type": "markdown",
   "id": "tender-viewer",
   "metadata": {},
   "source": [
    "### QR Code Scanning\n",
    "\n",
    "Now let's try and scan the QR Code!"
   ]
  },
  {
   "cell_type": "code",
   "execution_count": 14,
   "id": "inner-enhancement",
   "metadata": {
    "scrolled": true
   },
   "outputs": [
    {
     "name": "stdout",
     "output_type": "stream",
     "text": [
      "Are the QR Codes Equal? true\n",
      "shc:/56762909524320603460292437404460312229595326546034602925407728043360287028647167452228092863336255426275412355433805752239642525546358744477452355434077324071684161216532062160562475264227456440234171520424605736010641293361123274243503696800275229652605532663340322317554402128312575362309077753447454341030557126424150110932057607581057532422555026577335647356550820210322413323240528406877033269574275366471596238736609082760365342547408203970035432241026443163536053774253606967615745655677545830235872662143607165287507604133115730575710575352507745775708424059437243304407030552646322355859443976205634003834530061044170723374554061597244126800062568455976543742650510520600685632057164693634402643447025605066711103725000442468706912716677056723327539743874693262251157317370534205363237092309100622000036307758114363092254325437054062282350292670240633737725557322272367697466224328666560230039275669652308247165625962687406757437713126215038612903560327301127040623123930231240582633086932730842377254396067455842446366423228093929124228090566005021047560233105285565631044652827773728675339256352703958063004716970623521752375355211595036776145646559562562110923694320032728632267241167602372330965242106616023290552292776126900392921203968655667765405560950532403424523215570600931523471503854693242685231773925656903216445076376725371095937385033774370433459046732405434035361076842110606206725347231452132735032702576115211396535352338345443015830373039246572086429572155716143673820285403622950062767572045207075616942590503432026713531046508296205710769330530225061344025375372256250233963361105736359096904112336\n"
     ]
    }
   ],
   "source": [
    "var jsQR = require('jsqr');\n",
    "var PNG = require('pngjs').PNG;\n",
    "\n",
    "imageData = PNG.sync.read(fs.readFileSync('./js_qrcode0.png'))\n",
    "\n",
    "const scannedQR = jsQR(new Uint8ClampedArray(imageData.data.buffer), imageData.width, imageData.height)\n",
    "\n",
    "const qrCodesEqual = scannedQR.data === qrCodesData[0]\n",
    "\n",
    "console.log(\"Are the QR Codes Equal? \" + qrCodesEqual)\n",
    "\n",
    "console.log(scannedQR.data)"
   ]
  },
  {
   "cell_type": "markdown",
   "id": "dense-colleague",
   "metadata": {},
   "source": [
    "### Extracting Data from the QR Code\n",
    "\n",
    "Now let's reverse the process to get the original data back and check the signature. First, let's extract the JWS."
   ]
  },
  {
   "cell_type": "code",
   "execution_count": 15,
   "id": "engaging-shape",
   "metadata": {},
   "outputs": [
    {
     "name": "stdout",
     "output_type": "stream",
     "text": [
      "eyJ6aXAiOiJERUYiLCJhbGciOiJFUzI1NiIsImtpZCI6IlNkdWkxVDdXS2xCTmFFclgwYzZDdXUzMUtqVjBnM3BieExGWHZmUDVta1EifQ.3VJNj9MwEP0rq-HaJnG2bGlO0CLxcUBILFxQD64zbYwcO7KdtGWV_86M2y4g7fbECd_GfvPmved5AB0CVNDE2IUqz0MrfWxQmthkSvo65HiQbWcw5ATs0cME7GYLlbibzWbirpjfZnezcgKDguoBXitnIx4iVN8fKff7fba_zZzf5WUhXuXKY402amlCPghYTyAeO-SOb-j1VsuNwdUjhuY9q-3FqZhycRWn27a3-qeM2tmrQOUGXYsFi_ot80u_-YEqsr9toz2pDMxTwSwrMkF8fLvsbW2QMR6D673C--QKzg8Xl6CcMcR2UkID_JGsE3NvzFdvCHDprwoCXIoniD-THernD5Etnkhkqw3xwRtLGB_SjJ0e0HK8H13D9TKD9UgGN5rMv5WRucTipZgWYloWMI6TJ9WI62o-_B1xiDL2Idnl7YnIHzRIpbTFlasTg3K1trskPBxDxPa8h_QzjZmnheFk86DrXA0HIlCpE8piDuN6nEB3jiDJ2aJHy9r-TJBATqnepyc2e6_bE0WZDBdsi6LaOt_ScrMWqaLzTFnr0BmZ4lyubt6hRS_NzXsXOh1pMUcO0bj4qW833ApFOuLZBMv_MsFy8a8TnPPDSOcX.gKRKTEnu5mJfBdtjXpSAIc0kJ_3HpfAZAsxjrWh20XAGtPL1n5Jk2t4rN2KC_jOUFRbuFk_DTlQ82vlh6r18DQ\n"
     ]
    }
   ],
   "source": [
    "const scannedJWS = scannedQR\n",
    "    .chunks\n",
    "    .filter(chunk => chunk.type === \"numeric\")[0] // Grab the numeric chunk\n",
    "    .text.match(/(..?)/g) // Split into groups of 2 numeric characters each of which represent a single JWS char\n",
    "    .map(num => String.fromCharCode(parseInt(num, 10) + 45)).join('') // Convert from numeric encoding to JWS\n",
    "\n",
    "console.log(scannedJWS)"
   ]
  },
  {
   "cell_type": "markdown",
   "id": "surgical-techno",
   "metadata": {},
   "source": [
    "Next we can verify the signature and extract the payload"
   ]
  },
  {
   "cell_type": "code",
   "execution_count": 16,
   "id": "arabic-infrastructure",
   "metadata": {},
   "outputs": [],
   "source": [
    "let scannedResult;\n",
    "\n",
    "jose.JWS.createVerify(signingKey)\n",
    "    .verify(scannedJWS).then(function(result) {\n",
    "    zlib.inflateRaw(result.payload, function(err, decompressedResult){\n",
    "        scannedResult = decompressedResult.toString('utf8')\n",
    "    })\n",
    "})"
   ]
  },
  {
   "cell_type": "code",
   "execution_count": 17,
   "id": "processed-killer",
   "metadata": {},
   "outputs": [
    {
     "data": {
      "text/plain": [
       "'{\"iss\":\"https://smarthealth.cards/examples/issuer\",\"nbf\":1644416073.642,\"vc\":{\"@context\":[\"https://www.w3.org/2018/credentials/v1\"],\"type\":[\"VerifiableCredential\",\"https://smarthealth.cards#health-card\",\"https://smarthealth.cards#immunization\",\"https://smarthealth.cards#covid19\"],\"credentialSubject\":{\"fhirVersion\":\"4.0.1\",\"fhirBundle\":{\"resourceType\":\"Bundle\",\"type\":\"collection\",\"entry\":[{\"fullUrl\":\"resource:0\",\"resource\":{\"resourceType\":\"Patient\",\"name\":[{\"family\":\"Anyperson\",\"given\":[\"John\",\"B.\"]}],\"birthDate\":\"1951-01-20\"}},{\"fullUrl\":\"resource:1\",\"resource\":{\"resourceType\":\"Immunization\",\"status\":\"completed\",\"vaccineCode\":{\"coding\":[{\"system\":\"http://hl7.org/fhir/sid/cvx\",\"code\":\"207\"}]},\"patient\":{\"reference\":\"resource:0\"},\"occurrenceDateTime\":\"2021-01-01\",\"performer\":[{\"actor\":{\"display\":\"ABC General Hospital\"}}],\"lotNumber\":\"0000001\"}},{\"fullUrl\":\"resource:2\",\"resource\":{\"resourceType\":\"Immunization\",\"status\":\"completed\",\"vaccineCode\":{\"coding\":[{\"system\":\"http://hl7.org/fhir/sid/cvx\",\"code\":\"207\"}]},\"patient\":{\"reference\":\"resource:0\"},\"occurrenceDateTime\":\"2021-01-29\",\"performer\":[{\"actor\":{\"display\":\"ABC General Hospital\"}}],\"lotNumber\":\"0000007\"}}]}}}}'"
      ]
     },
     "execution_count": 17,
     "metadata": {},
     "output_type": "execute_result"
    }
   ],
   "source": [
    "scannedResult"
   ]
  },
  {
   "cell_type": "markdown",
   "id": "interstate-registration",
   "metadata": {},
   "source": [
    "Let's compare this to our original minified payload with whitespace removed"
   ]
  },
  {
   "cell_type": "code",
   "execution_count": 18,
   "id": "least-pregnancy",
   "metadata": {},
   "outputs": [
    {
     "data": {
      "text/plain": [
       "true"
      ]
     },
     "execution_count": 18,
     "metadata": {},
     "output_type": "execute_result"
    }
   ],
   "source": [
    "scannedResult === noWhiteSpaceHealthCard"
   ]
  },
  {
   "cell_type": "markdown",
   "id": "partial-confidentiality",
   "metadata": {},
   "source": [
    "Finally, lets print the entries for easy inspection."
   ]
  },
  {
   "cell_type": "code",
   "execution_count": 19,
   "id": "quick-disaster",
   "metadata": {},
   "outputs": [
    {
     "name": "stdout",
     "output_type": "stream",
     "text": [
      "{\n",
      "  \"fullUrl\": \"resource:0\",\n",
      "  \"resource\": {\n",
      "    \"resourceType\": \"Patient\",\n",
      "    \"name\": [\n",
      "      {\n",
      "        \"family\": \"Anyperson\",\n",
      "        \"given\": [\n",
      "          \"John\",\n",
      "          \"B.\"\n",
      "        ]\n",
      "      }\n",
      "    ],\n",
      "    \"birthDate\": \"1951-01-20\"\n",
      "  }\n",
      "}\n",
      "{\n",
      "  \"fullUrl\": \"resource:1\",\n",
      "  \"resource\": {\n",
      "    \"resourceType\": \"Immunization\",\n",
      "    \"status\": \"completed\",\n",
      "    \"vaccineCode\": {\n",
      "      \"coding\": [\n",
      "        {\n",
      "          \"system\": \"http://hl7.org/fhir/sid/cvx\",\n",
      "          \"code\": \"207\"\n",
      "        }\n",
      "      ]\n",
      "    },\n",
      "    \"patient\": {\n",
      "      \"reference\": \"resource:0\"\n",
      "    },\n",
      "    \"occurrenceDateTime\": \"2021-01-01\",\n",
      "    \"performer\": [\n",
      "      {\n",
      "        \"actor\": {\n",
      "          \"display\": \"ABC General Hospital\"\n",
      "        }\n",
      "      }\n",
      "    ],\n",
      "    \"lotNumber\": \"0000001\"\n",
      "  }\n",
      "}\n",
      "{\n",
      "  \"fullUrl\": \"resource:2\",\n",
      "  \"resource\": {\n",
      "    \"resourceType\": \"Immunization\",\n",
      "    \"status\": \"completed\",\n",
      "    \"vaccineCode\": {\n",
      "      \"coding\": [\n",
      "        {\n",
      "          \"system\": \"http://hl7.org/fhir/sid/cvx\",\n",
      "          \"code\": \"207\"\n",
      "        }\n",
      "      ]\n",
      "    },\n",
      "    \"patient\": {\n",
      "      \"reference\": \"resource:0\"\n",
      "    },\n",
      "    \"occurrenceDateTime\": \"2021-01-29\",\n",
      "    \"performer\": [\n",
      "      {\n",
      "        \"actor\": {\n",
      "          \"display\": \"ABC General Hospital\"\n",
      "        }\n",
      "      }\n",
      "    ],\n",
      "    \"lotNumber\": \"0000007\"\n",
      "  }\n",
      "}\n"
     ]
    }
   ],
   "source": [
    "const entries = JSON.parse(scannedResult)\n",
    "    .vc.credentialSubject.fhirBundle.entry\n",
    "    .map(entry => console.log(JSON.stringify(entry, null, 2)))"
   ]
  }
 ],
 "metadata": {
  "kernelspec": {
   "display_name": "Javascript (Node.js)",
   "language": "javascript",
   "name": "javascript"
  },
  "language_info": {
   "file_extension": ".js",
   "mimetype": "application/javascript",
   "name": "javascript",
   "version": "16.6.1"
  }
 },
 "nbformat": 4,
 "nbformat_minor": 5
}
